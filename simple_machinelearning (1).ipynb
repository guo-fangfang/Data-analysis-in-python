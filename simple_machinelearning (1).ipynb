{
 "cells": [
  {
   "cell_type": "markdown",
   "metadata": {},
   "source": [
    "# 1.数据集的抽取"
   ]
  },
  {
   "cell_type": "markdown",
   "metadata": {},
   "source": [
    "load_iris():鸢尾花数据集，3类别、4特征、150个样本\n",
    "load_boston():波士顿房价数据集，13特征、506个样本\n",
    "load_digits():手写数字集，10类别、64特征、1797样本\n",
    "load_breast_cancer():乳腺癌数据，2类别、30特征、569样本\n",
    "load_diabets():糖尿病数据集，10特征、442样本\n",
    "load_wine():红酒数据集，3类别，13特征、178样本\n",
    "load_linnerud():体能训练数据集，3特诊、20样本\n",
    "load_sample_image():加载单个图像样本\n",
    "load_svmlight_file():加载svmlight格式数据"
   ]
  },
  {
   "cell_type": "code",
   "execution_count": 24,
   "metadata": {},
   "outputs": [
    {
     "name": "stdout",
     "output_type": "stream",
     "text": [
      "*******样本的形状：*******\n",
      "(150, 4)\n",
      "*******标签的形状：*******\n",
      "(150,)\n",
      "*******变量的名字：*******\n",
      "['sepal length (cm)', 'sepal width (cm)', 'petal length (cm)', 'petal width (cm)']\n",
      "*******标签的类别：*******\n",
      "[0 1 2]\n"
     ]
    }
   ],
   "source": [
    "from sklearn import datasets\n",
    "import matplotlib.pyplot as plt\n",
    "import numpy as np\n",
    "#加载iris数据集\n",
    "iris = datasets.load_iris()\n",
    "features = iris.data#样本\n",
    "target = iris.target#标签\n",
    "variable_name = iris.feature_names\n",
    "print(np.char.center(\"样本的形状：\",20,fillchar = \"*\"))\n",
    "print(features.shape)\n",
    "print(np.char.center(\"标签的形状：\",20,fillchar = \"*\"))\n",
    "print(target.shape) \n",
    "print(np.char.center(\"变量的名字：\",20,fillchar = \"*\"))\n",
    "print(variable_name) \n",
    "print(np.char.center(\"标签的类别：\",20,fillchar = \"*\"))\n",
    "print(np.unique(target)) \n",
    "\n"
   ]
  },
  {
   "cell_type": "markdown",
   "metadata": {
    "collapsed": true
   },
   "source": [
    "# 2.数据预处理"
   ]
  },
  {
   "cell_type": "markdown",
   "metadata": {
    "collapsed": true
   },
   "source": [
    "数据预处理函数如下（位于sklearn.preprocessing）：\n",
    "使用dir(preprocessing)查看包里有什么预处理函数\n",
    "preprocessing.scale():标准化\n",
    "preprocessing.minmax_scale():最大值最小值标准化\n",
    "preprocessing.StandardScaler():数据标准化\n",
    "preprocessing.MaxAbsScaler():绝对值最大标准化\n",
    "preprocessing.RobustScaler():带离群值数据集标准化\n",
    "preprocessing.QuantileTransformer()\n",
    "preprocessing.PowerTransformer()\n",
    "preprocessing.Normalizer()\n",
    "preprocessing.OrdinalEncoder()\n",
    "preprocessing.LabelEncoder()\n",
    "preprocessing.MultiLabelBinarizer()\n",
    "preprocessing.OneHotEncoder():独热编码\n",
    "preprocessing.KBinsDiscretizer():连续数据离散化\n",
    "preprocessing.FunctionTransformer()\n",
    "preprocessing.Binarizer()\n",
    "preprocessing.PolynomialFeatures()\n",
    "preprocessing.Imputer():弥补缺失值"
   ]
  },
  {
   "cell_type": "code",
   "execution_count": 10,
   "metadata": {
    "collapsed": true
   },
   "outputs": [],
   "source": [
    "import numpy as np\n",
    "from sklearn import preprocessing\n"
   ]
  },
  {
   "cell_type": "code",
   "execution_count": 9,
   "metadata": {
    "scrolled": false
   },
   "outputs": [
    {
     "name": "stdout",
     "output_type": "stream",
     "text": [
      "*******按照0轴转换*******\n",
      "[[0.30618622 0.61237244 0.91855865 1.22474487]\n",
      " [1.53093109 1.83711731 2.14330352 2.44948974]\n",
      " [2.75567596 3.06186218 3.3680484  3.67423461]]\n",
      "*******按照1轴转换*******\n",
      "[[ 0.89442719  1.78885438  2.68328157  3.57770876]\n",
      " [ 4.47213595  5.36656315  6.26099034  7.15541753]\n",
      " [ 8.04984472  8.94427191  9.8386991  10.73312629]]\n"
     ]
    },
    {
     "name": "stderr",
     "output_type": "stream",
     "text": [
      "D:\\anaconda\\envs\\py36\\lib\\site-packages\\sklearn\\utils\\validation.py:429: DataConversionWarning: Data with input dtype int32 was converted to float64 by the scale function.\n",
      "  warnings.warn(msg, _DataConversionWarning)\n"
     ]
    }
   ],
   "source": [
    "#help(preprocessing.scale)查看函数的具体用法\n",
    "#preprocessing.scale(x,axis,with_mean,with_std)axis默认为按照0轴转换，with_mean/with_std要转换成均值/方差为什么的函数\n",
    "x = np.array([[1,2,3,4],[5,6,7,8],[9,10,11,12]])\n",
    "x_scale_1 = preprocessing.scale(x,axis=0,with_mean=0,with_std=1)\n",
    "x_scale_2 = preprocessing.scale(x,axis=1,with_mean=0,with_std=1)\n",
    "print(np.char.center(\"按照0轴转换\",20,fillchar=\"*\"))\n",
    "print(x_scale_1)\n",
    "print(np.char.center(\"按照1轴转换\",20,fillchar =\"*\"))\n",
    "print(x_scale_2)"
   ]
  },
  {
   "cell_type": "code",
   "execution_count": 16,
   "metadata": {},
   "outputs": [
    {
     "name": "stdout",
     "output_type": "stream",
     "text": [
      "*****按照默认的0轴转换******\n",
      "[[0.  0.  0.  0. ]\n",
      " [0.5 0.5 0.5 0.5]\n",
      " [1.  1.  1.  1. ]]\n",
      "*******按照1轴转换*******\n",
      "[[0.         0.33333333 0.66666667 1.        ]\n",
      " [0.         0.33333333 0.66666667 1.        ]\n",
      " [0.         0.33333333 0.66666667 1.        ]]\n"
     ]
    },
    {
     "name": "stderr",
     "output_type": "stream",
     "text": [
      "D:\\anaconda\\envs\\py36\\lib\\site-packages\\sklearn\\utils\\validation.py:429: DataConversionWarning: Data with input dtype int32 was converted to float64.\n",
      "  warnings.warn(msg, _DataConversionWarning)\n"
     ]
    }
   ],
   "source": [
    "#help(preprocessing.minmax_scale)默认按照0轴\n",
    "x = np.array([[1,2,3,4],[5,6,7,8],[9,10,11,12]])\n",
    "x_scale_1 = preprocessing.minmax_scale(x)\n",
    "x_scale_2 = preprocessing.minmax_scale(x,axis = 1)\n",
    "print(np.char.center(\"按照默认的0轴转换\",20,fillchar = \"*\"))\n",
    "print(x_scale_1)\n",
    "print(np.char.center(\"按照1轴转换\",20,fillchar = \"*\"))\n",
    "print(x_scale_2)\n"
   ]
  },
  {
   "cell_type": "code",
   "execution_count": 30,
   "metadata": {},
   "outputs": [
    {
     "name": "stdout",
     "output_type": "stream",
     "text": [
      "-2.7533531010703882e-17 1.0\n"
     ]
    },
    {
     "name": "stderr",
     "output_type": "stream",
     "text": [
      "D:\\anaconda\\envs\\py36\\lib\\site-packages\\sklearn\\preprocessing\\data.py:586: DeprecationWarning: Passing 1d arrays as data is deprecated in 0.17 and will raise ValueError in 0.19. Reshape your data either using X.reshape(-1, 1) if your data has a single feature or X.reshape(1, -1) if it contains a single sample.\n",
      "  warnings.warn(DEPRECATION_MSG_1D, DeprecationWarning)\n",
      "D:\\anaconda\\envs\\py36\\lib\\site-packages\\sklearn\\preprocessing\\data.py:649: DeprecationWarning: Passing 1d arrays as data is deprecated in 0.17 and will raise ValueError in 0.19. Reshape your data either using X.reshape(-1, 1) if your data has a single feature or X.reshape(1, -1) if it contains a single sample.\n",
      "  warnings.warn(DEPRECATION_MSG_1D, DeprecationWarning)\n"
     ]
    }
   ],
   "source": [
    "#help(preprocessing.StandardScaler)-- z score---最后得到一个均值为0 方差为1的序列\n",
    "#x = np.array([[1,2,3,4],[5,6,7,8],[9,10,11,12]])\n",
    "x = np.random.normal(2,3,1000)\n",
    "scaler = preprocessing.StandardScaler().fit(x)\n",
    "x_scaled = scaler.transform(x)\n",
    "print(x_scaled.mean(axis=0),x_scaled.std(axis=0))"
   ]
  },
  {
   "cell_type": "code",
   "execution_count": 31,
   "metadata": {},
   "outputs": [
    {
     "name": "stdout",
     "output_type": "stream",
     "text": [
      "[0.        0.        0.9999982] [0.74535599 0.74535599 1.73204873]\n"
     ]
    }
   ],
   "source": [
    "#preprocessing.RobustScaler()处理有异常值的数据\n",
    "y = np.array([[1,2,3],[4,5,6],[7,8,9],[10,11,10000000]])\n",
    "rob_scale = preprocessing.RobustScaler()\n",
    "y_rob = rob_scale.fit_transform(y)\n",
    "print(y_rob.mean(axis=0),y_rob.std(axis=0))"
   ]
  },
  {
   "cell_type": "code",
   "execution_count": 36,
   "metadata": {
    "scrolled": false
   },
   "outputs": [
    {
     "name": "stdout",
     "output_type": "stream",
     "text": [
      "[[ 0.40824829 -0.40824829  0.81649658]\n",
      " [ 1.          0.          0.        ]\n",
      " [ 0.          0.70710678 -0.70710678]]\n"
     ]
    },
    {
     "name": "stderr",
     "output_type": "stream",
     "text": [
      "D:\\anaconda\\envs\\py36\\lib\\site-packages\\sklearn\\utils\\validation.py:429: DataConversionWarning: Data with input dtype int32 was converted to float64 by the normalize function.\n",
      "  warnings.warn(msg, _DataConversionWarning)\n"
     ]
    }
   ],
   "source": [
    "#preprocessing.normalize()正则化，主要用于文本分类和聚类,把数据转换成1范数\n",
    "#help(preprocessing.normalize)\n",
    "x = np.array([[1,-1,2],[2,0,0],[0,1,-1]])\n",
    "x_normalized = preprocessing.normalize(x)\n",
    "print(x_normalized)"
   ]
  },
  {
   "cell_type": "code",
   "execution_count": 47,
   "metadata": {},
   "outputs": [
    {
     "name": "stdout",
     "output_type": "stream",
     "text": [
      "[[0 0 1]\n",
      " [1 0 0]\n",
      " [0 0 0]]\n"
     ]
    }
   ],
   "source": [
    "#特征二值化，将数值型特征转换为bool型\n",
    "#help(preprocessing.binarize)#默认threshold=0\n",
    "x = np.array([[1,-1,2],[2,0,0],[0,1,-1]])\n",
    "x_binarized = preprocessing.binarize(x,threshold=1)\n",
    "print(x_binarized)"
   ]
  },
  {
   "cell_type": "code",
   "execution_count": 50,
   "metadata": {},
   "outputs": [
    {
     "name": "stdout",
     "output_type": "stream",
     "text": [
      "  (0, 0)\t1.0\n",
      "  (0, 1)\t1.0\n",
      "  (0, 2)\t1.0\n",
      "  (0, 3)\t1.0\n",
      "  (0, 4)\t1.0\n",
      "  (0, 5)\t1.0\n",
      "  (0, 6)\t1.0\n",
      "  (0, 7)\t1.0\n",
      "  (0, 8)\t1.0\n",
      "  (0, 9)\t1.0\n"
     ]
    },
    {
     "name": "stderr",
     "output_type": "stream",
     "text": [
      "D:\\anaconda\\envs\\py36\\lib\\site-packages\\sklearn\\utils\\validation.py:395: DeprecationWarning: Passing 1d arrays as data is deprecated in 0.17 and will raise ValueError in 0.19. Reshape your data either using X.reshape(-1, 1) if your data has a single feature or X.reshape(1, -1) if it contains a single sample.\n",
      "  DeprecationWarning)\n",
      "D:\\anaconda\\envs\\py36\\lib\\site-packages\\sklearn\\utils\\validation.py:395: DeprecationWarning: Passing 1d arrays as data is deprecated in 0.17 and will raise ValueError in 0.19. Reshape your data either using X.reshape(-1, 1) if your data has a single feature or X.reshape(1, -1) if it contains a single sample.\n",
      "  DeprecationWarning)\n"
     ]
    }
   ],
   "source": [
    "#将数据标签/特征进行独热编码，通常对标签编码\n",
    "y1 = [1,2,3,4,5,6,7,8,9,10]\n",
    "y1_hot = preprocessing.OneHotEncoder().fit(y1).transform(y1)\n",
    "print(y1_hot)"
   ]
  },
  {
   "cell_type": "code",
   "execution_count": 53,
   "metadata": {},
   "outputs": [
    {
     "name": "stdout",
     "output_type": "stream",
     "text": [
      "[[  1.   1.   3.   1.   3.   9.   1.   3.   9.  27.]\n",
      " [  1.   2.   6.   4.  12.  36.   8.  24.  72. 216.]\n",
      " [  1.   3.   7.   9.  21.  49.  27.  63. 147. 343.]\n",
      " [  1.   4.   8.  16.  32.  64.  64. 128. 256. 512.]]\n"
     ]
    }
   ],
   "source": [
    "#preprocessing.PolynomialFeatures\n",
    "#对特征进行多项式的构造\n",
    "#parameters:degree(控制多项式的阶数)，interaction_only(default=False,若为True则只有交叉项)，include_bias(1,default=True)\n",
    "x_train = np.array([[1,3],[2,6],[3,7],[4,8]])\n",
    "x_train_tran = preprocessing.PolynomialFeatures(degree=3).fit_transform(x_train)\n",
    "print(x_train_tran)"
   ]
  },
  {
   "cell_type": "markdown",
   "metadata": {},
   "source": [
    "# 特征选择"
   ]
  },
  {
   "cell_type": "markdown",
   "metadata": {},
   "source": [
    "#选择K个得分最高的特征//从特征得分的角度选择特征\n",
    "feature_selection.SelectKBest\n",
    "feature_selection.chi2  or f_classif or mutualinfo_classif//适用于分类问题\n",
    "feature_selection.f_regression//适用于回归\n",
    "feature_selection.mutual_info_regression//适用于回归\n",
    "#无监督特征选择//从方差即信息量的角度筛选特征\n",
    "feature_selection.VarianceThreshold\n",
    "#递归式特征消除\n",
    "feature_selection.RFE\n",
    "feature_selection.RFECV\n",
    "#特征选择\n",
    "feature_selection.SelectFromModel\n",
    "lasso\n",
    "\n"
   ]
  },
  {
   "cell_type": "code",
   "execution_count": 4,
   "metadata": {
    "collapsed": true
   },
   "outputs": [],
   "source": [
    "from sklearn.datasets import load_digits\n",
    "from sklearn.feature_selection import SelectKBest,chi2,f_regression  #最好使用version_ scipy1.2.1\n"
   ]
  },
  {
   "cell_type": "code",
   "execution_count": 5,
   "metadata": {},
   "outputs": [
    {
     "name": "stdout",
     "output_type": "stream",
     "text": [
      "(1797, 64)\n",
      "(1797, 20)\n"
     ]
    }
   ],
   "source": [
    "# SelectKBest---chi2\n",
    "#Recall that the chi-square test measures dependence between stochastic variables, so using this \n",
    "#function “weeds out” the features that are the most likely to be independent of class and \n",
    "#therefore irrelevant for classification.\n",
    "digits = load_digits()\n",
    "data = digits.data\n",
    "target = digits.target\n",
    "print(data.shape)\n",
    "data_new = SelectKBest(chi2,k=20).fit_transform(data,target)\n",
    "print(data_new.shape)"
   ]
  },
  {
   "cell_type": "code",
   "execution_count": 6,
   "metadata": {},
   "outputs": [
    {
     "name": "stdout",
     "output_type": "stream",
     "text": [
      "(1797, 25)\n"
     ]
    },
    {
     "name": "stderr",
     "output_type": "stream",
     "text": [
      "D:\\anaconda\\envs\\py36\\lib\\site-packages\\sklearn\\feature_selection\\univariate_selection.py:279: RuntimeWarning: invalid value encountered in true_divide\n",
      "  corr /= row_norms(X.T)\n"
     ]
    }
   ],
   "source": [
    "#SelectKBest---f_regression\n",
    "data_new_1  = SelectKBest(score_func =f_regression,k=25 ).fit_transform(data,target)\n",
    "print(data_new_1.shape)"
   ]
  },
  {
   "cell_type": "code",
   "execution_count": 13,
   "metadata": {},
   "outputs": [
    {
     "name": "stdout",
     "output_type": "stream",
     "text": [
      "[[0 1]\n",
      " [1 0]\n",
      " [0 0]\n",
      " [1 1]\n",
      " [1 0]\n",
      " [1 1]]\n"
     ]
    }
   ],
   "source": [
    "#feature_selection.VarianceThreshold()计算每一个变量（特征）的方差，方差越大变化越大包含信息越多，反之，比如极端情况下\n",
    "#某一个变量的取值都为1，那么该变量对于分类来言就没有什么用。该方法只适合离散型变量，若为连续性需要离散\n",
    "from sklearn.feature_selection import VarianceThreshold\n",
    "x = [[0,0,1],[0,1,0],[1,0,0],[0,1,1],[0,1,0],[0,1,1]]\n",
    "x_new = VarianceThreshold(threshold=(0.2,0.1,0.2)).fit_transform(x)\n",
    "print(x_new)"
   ]
  },
  {
   "cell_type": "code",
   "execution_count": 22,
   "metadata": {
    "collapsed": true
   },
   "outputs": [],
   "source": [
    "#递归式特征消除\n",
    "#feature_selection.RFE\n",
    "#feature_selection.RFECV\n",
    "from sklearn.svm import SVC\n",
    "from sklearn.model_selection import StratifiedKFold,cross_val_score\n",
    "from sklearn.feature_selection import RFE,RFECV\n",
    "from sklearn.datasets import load_iris\n",
    "import numpy as np\n"
   ]
  },
  {
   "cell_type": "markdown",
   "metadata": {},
   "source": [
    "#解释一下“交叉验证方法”\n",
    "交叉验证方法：KFold/StratifiedKFold\n",
    "from skearn.model_selection import StratifiedKFold,KFold\n",
    "均表示K折交叉验证，but，StratifiedKFold使用的是层次分类的随机抽样方法"
   ]
  },
  {
   "cell_type": "code",
   "execution_count": 25,
   "metadata": {},
   "outputs": [
    {
     "name": "stdout",
     "output_type": "stream",
     "text": [
      "*********原数据集的形状*********\n",
      "(150, 4)\n",
      "*********子集选择后的形状********\n",
      "(150, 2)\n"
     ]
    }
   ],
   "source": [
    "#加载数据集\n",
    "iris = load_iris()\n",
    "x,y = iris.data,iris.target\n",
    "#创建用于特征选择的模型\n",
    "svc = SVC(kernel = \"linear\")#svc属于SVM中分类的支持向量机\n",
    "#使用RFE用了全部的数据相当于在训练集上选择最好的模型\n",
    "rfe = RFE(estimator = svc)\n",
    "x_rfe = rfe.fit(x,y).transform(x)\n",
    "print(np.char.center(\"原数据集的形状\",25,fillchar=\"*\"))\n",
    "print(x.shape)\n",
    "print(np.char.center(\"子集选择后的形状\",25,fillchar = \"*\"))\n",
    "print(x_rfe.shape)"
   ]
  },
  {
   "cell_type": "code",
   "execution_count": 28,
   "metadata": {},
   "outputs": [
    {
     "name": "stdout",
     "output_type": "stream",
     "text": [
      "(150, 4)\n"
     ]
    }
   ],
   "source": [
    "#为了能够更好地体现模型的泛化能力可以选择RFECV方法\n",
    "rfecv = RFECV(estimator=svc,cv = StratifiedKFold(10))\n",
    "x_rfecv = rfecv.fit(x,y).transform(x)\n",
    "print(x_rfecv.shape)"
   ]
  },
  {
   "cell_type": "markdown",
   "metadata": {
    "collapsed": true
   },
   "source": [
    "#feature_selection.SelectFromModel()特征选择\n",
    "#分为两种：一种是基于惩罚项（比如L1/L2正则化对应LASSO和Rige）另一种是基于树模型(ID3/C4.5/CART/GBDT/XGBOST)\n"
   ]
  },
  {
   "cell_type": "code",
   "execution_count": 12,
   "metadata": {
    "collapsed": true
   },
   "outputs": [],
   "source": [
    "#基于L1正则化（Lasso）\n",
    "from sklearn.datasets import load_iris\n",
    "from sklearn.feature_selection import SelectFromModel\n",
    "from sklearn.linear_model import LogisticRegression\n",
    "\n",
    "iris = load_iris()\n",
    "x,y = iris.data,iris.target\n",
    "x_new = SelectFromModel(LogisticRegression(penalty=\"l1\",C=0.1)).fit_transform(x,y)#C表示正则化的强度，越小则正则化越严重\n",
    "x_new_1 = SelectFromModel(LogisticRegression(penalty=\"l2\",C=1)).fit_transform(x,y)"
   ]
  },
  {
   "cell_type": "code",
   "execution_count": 13,
   "metadata": {},
   "outputs": [
    {
     "name": "stdout",
     "output_type": "stream",
     "text": [
      "*********原始数据的形状*********\n",
      "(150, 4)\n",
      "********l1正则化后的形状********\n",
      "(150, 3)\n",
      "********L2正则化后的形状********\n",
      "(150, 3)\n"
     ]
    }
   ],
   "source": [
    "#查看结果\n",
    "import numpy as np\n",
    "print(np.char.center(\"原始数据的形状\",25,fillchar=\"*\"))\n",
    "print(x.shape)\n",
    "print(np.char.center(\"l1正则化后的形状\",25,fillchar=\"*\"))\n",
    "print(x_new.shape)\n",
    "print(np.char.center(\"L2正则化后的形状\",25,fillchar= \"*\"))\n",
    "print(x_new_1.shape)"
   ]
  },
  {
   "cell_type": "code",
   "execution_count": 16,
   "metadata": {
    "collapsed": true
   },
   "outputs": [],
   "source": [
    "#使用树模型\n",
    "from  sklearn.ensemble import GradientBoostingClassifier as gbdt\n",
    "x_new_2 = SelectFromModel(gbdt()).fit_transform(x,y)"
   ]
  },
  {
   "cell_type": "code",
   "execution_count": 17,
   "metadata": {},
   "outputs": [
    {
     "name": "stdout",
     "output_type": "stream",
     "text": [
      "(150, 2)\n"
     ]
    }
   ],
   "source": [
    "print(x_new_2.shape)"
   ]
  },
  {
   "cell_type": "markdown",
   "metadata": {},
   "source": [
    "# 特征降维"
   ]
  },
  {
   "cell_type": "markdown",
   "metadata": {},
   "source": [
    "#PCA\n",
    "sklearn.decomposition.PCA\n",
    "sklearn.decomposition.KernelPCA针对线性不可分的数据集，通过非线性核函数把样本空间映射到高维空间，然后在高维空间对数据进行主成分分析\n",
    "PCA是线性降维，KPCA是非线性降维\n",
    "sklearn.decomposition.IncrementalPCA增量主成分分析，针对大数据集，为了解决内存限制，将数据分成多个批次，通过增量方式逐步主成分分析\n",
    "sklearn.decomposition.MiniBatchSparsePCA\n",
    "sklearn.decomposition.SparsePCA稀疏主成分分析，针对主成分分析结果解释性鶸的问题，凸显主成分中的主要组成成分。\n",
    "**************************************\n",
    "sklearn.decomposition.FactorAnalysis\n",
    "sklearn.decomposition.TruncatedSVD\n",
    "sklearn.decomposition.FastlCA\n",
    "***************************************\n",
    "sklearn.decomposition.DictionaryLearning\n",
    "sklearn.decomposition.MiniBathDictionaryLearning\n",
    "sklearn.decomposition.dit_learning\n",
    "sklearn.decomposition.dict_learning_online\n",
    "**************************************\n",
    "sklearn.decomposition.LatentDirichletAllocation\n",
    "sklearn.decomposition.NMF\n",
    "sklearn.decomposition.SparseCoder\n"
   ]
  },
  {
   "cell_type": "markdown",
   "metadata": {},
   "source": [
    "#maniflod\n",
    "sklearn.manifold.LocallyLinearEmbedding\n",
    "sklearn.manifold.lsomap\n",
    "sklearn.manifold.MDS\n",
    "sklearn.manifold.t-SNE\n",
    "sklearn.manifold.SpectralEmbedding\n",
    "#聚类降维"
   ]
  },
  {
   "cell_type": "code",
   "execution_count": 22,
   "metadata": {},
   "outputs": [
    {
     "name": "stdout",
     "output_type": "stream",
     "text": [
      "*********原始数据集的shape:*********\n",
      "(16, 5)\n",
      "*********保留两个主成分后的数据：*********\n",
      "(16, 2)\n",
      "*******保留了0.85方差解释率的数据：*******\n",
      "(16, 3)\n",
      "\n",
      " 方法二：直接查看主成分个数和主成分的方差解释率\n",
      "2 3\n",
      "[0.40937279 0.28797221] [0.40937279 0.28797221 0.19738803]\n"
     ]
    }
   ],
   "source": [
    "#sklearn.decomposition.PCA\n",
    "from sklearn.decomposition import PCA\n",
    "import numpy as np\n",
    "x = np.array([[1,2,-1,0,3],[2,3,4,-1,-2],[3,0,5,1,3],[8,7,6,-6,-4],[4,5,6,7,8],[1,4,5,7,8],[9,0,8,3,2],[5,3,-3,-2,4],[11,12,1,3,4],[5,4,3,6,3],[1,2,3,4,5],[0,1,0,4,2],[3,4,2,-3,-4],[2,0,-3,-4,5],[8,7,6,0,5],[8,5,-4,-5,3]])\n",
    "model_pca = PCA(n_components = 2)\n",
    "model_pca_2 = PCA(n_components =0.85)\n",
    "x_new_1 = model_pca.fit_transform(x)\n",
    "x_new_2 = model_pca_2.fit_transform(x)\n",
    "#查看经过pca后的数据集形状,也就是查看保留个几个主成分\n",
    "print(np.char.center(\"原始数据集的shape:\",30,fillchar = \"*\"))\n",
    "print(x.shape)\n",
    "print(np.char.center(\"保留两个主成分后的数据：\",30,fillchar = \"*\"))\n",
    "print(x_new_1.shape)\n",
    "print(np.char.center(\"保留了0.85方差解释率的数据：\",30,fillchar = \"*\"))\n",
    "print(x_new_2.shape)\n",
    "print(\"\\n\",\"方法二：直接查看主成分个数和主成分的方差解释率\")\n",
    "print(model_pca.n_components_,model_pca_2.n_components_)\n",
    "print(model_pca.explained_variance_ratio_,model_pca_2.explained_variance_ratio_)"
   ]
  },
  {
   "cell_type": "code",
   "execution_count": 24,
   "metadata": {},
   "outputs": [
    {
     "name": "stdout",
     "output_type": "stream",
     "text": [
      "(500, 14)\n"
     ]
    }
   ],
   "source": [
    "#kernelPCA\n",
    "import math\n",
    "from sklearn.decomposition import KernelPCA\n",
    "x = []\n",
    "y = []\n",
    "N = 500\n",
    "for i in range(N):\n",
    "    deg = np.random.randint(0,360)\n",
    "    if np.random.randint(0,2)%2 ==0:\n",
    "        x.append([6*math.sin(deg),6*math.cos(deg)])\n",
    "        y.append(1)\n",
    "    else:\n",
    "        x.append([15*math.sin(deg),15*math.cos(deg)])\n",
    "        y.append(0)\n",
    "x = np.array(x)\n",
    "y = np.array(y)\n",
    "\n",
    "kpca = KernelPCA(kernel = \"rbf\",n_components = 14)\n",
    "x_kpca = kpca.fit_transform(x)\n",
    "print(x_kpca.shape)"
   ]
  },
  {
   "cell_type": "code",
   "execution_count": 26,
   "metadata": {},
   "outputs": [
    {
     "name": "stdout",
     "output_type": "stream",
     "text": [
      "(1797, 6) 6\n"
     ]
    }
   ],
   "source": [
    "#sklearn.decomposition.IncrementalPCA增量主成分分析\n",
    "from sklearn.datasets import load_digits\n",
    "from sklearn.decomposition import IncrementalPCA\n",
    "from scipy import sparse\n",
    "\n",
    "digits = load_digits()\n",
    "x = digits.data\n",
    "#xsparse = sparse.csr_matrix(x)#压缩稀疏矩阵\n",
    "modelIPCA = IncrementalPCA(n_components = 6,batch_size = 200)\n",
    "modelIPCA.fit(x)#训练模型\n",
    "x_transform = modelIPCA.transform(x)\n",
    "print(x_transform.shape,modelIPCA.n_components_)"
   ]
  },
  {
   "cell_type": "code",
   "execution_count": 28,
   "metadata": {},
   "outputs": [
    {
     "name": "stdout",
     "output_type": "stream",
     "text": [
      "(200, 10)\n"
     ]
    }
   ],
   "source": [
    "#MinibatchSparsePCA\n",
    "from sklearn.datasets import make_friedman1\n",
    "from sklearn.decomposition import MiniBatchSparsePCA\n",
    "x,_ = make_friedman1(n_samples = 200,n_features = 30,random_state = 0)\n",
    "MiniPCA = MiniBatchSparsePCA(n_components = 10,batch_size = 50,random_state = 0)\n",
    "MiniPCA.fit(x)\n",
    "x_transform = MiniPCA.transform(x)\n",
    "print(x_transform.shape)"
   ]
  },
  {
   "cell_type": "code",
   "execution_count": 30,
   "metadata": {},
   "outputs": [
    {
     "name": "stdout",
     "output_type": "stream",
     "text": [
      "(1797, 5)\n"
     ]
    }
   ],
   "source": [
    "#因子分析\n",
    "from sklearn.datasets import load_digits\n",
    "from sklearn.decomposition import FactorAnalysis\n",
    "x,_ = load_digits(return_X_y = True)\n",
    "trans = FactorAnalysis(n_components = 5,random_state = 0)\n",
    "x_trans = trans.fit_transform(x)\n",
    "print(x_trans.shape)"
   ]
  },
  {
   "cell_type": "markdown",
   "metadata": {},
   "source": [
    "# 分类模型"
   ]
  },
  {
   "cell_type": "markdown",
   "metadata": {},
   "source": [
    "学习目标：每一种方法的原理是什么，分类方法的发展史是什么，如何去应用，差不多一个方法一个小模块。\n",
    "决策树模型\n",
    "sklearn.tree.DecisionTreeClassifier()\n",
    "集成模型\n",
    "sklearn.ensemble.BaggingClassifier()袋装法\n",
    "sklearn.ensemble.AdaBoostClassifier()提升法\n",
    "sklearn.ensemble.RandomForestClassifier()随机森林\n",
    "sklearn.ensemble.ExtraTreesClassifier()极限随机树\n",
    "sklearn.ensemble.RandomTreesEmbedding()嵌入式完全随机树\n",
    "sklearn.GradientBoostingClassifier()梯度提升树\n",
    "sklearn.VotingClassifier()投票分类法\n",
    "xgboost\n",
    "支持向量机sklearn.svm\n",
    "sklearn.svm.SVC()\n",
    "sklearn.svm.NuSVC()\n",
    "sklearn.svm.LinearSVC()\n",
    "......\n",
    "无监督学习sklearn.neighbors\n",
    "sklearn.neighbors.NearestNeighbors()\n",
    "sklearn.neighbors.NearestCentroid()\n",
    "sklearn.neighbors.KNeighborsClassfier()\n",
    "sklearn.neighbors.KDTree()\n",
    "sklearn.neighbors.KNeighborsTransformer()\n",
    "判别分析sklearn.discriminant_analysis\n",
    "sklearn.discriminant_nalysis.LinearDiscriminantAnalysis()LDA\n",
    "sklearn.discriminant_nalysis.QuadraticDiscriminantAnalysis()二次判别分析\n",
    "高斯过程分类\n",
    "sklearn.gaussian_process.GaussianProcessClassifier()\n",
    "贝叶斯分类\n",
    "sklearn.naive_bayes.GaussianNB()朴素贝叶斯\n",
    "sklearn.naive_bayes.MultinomialNB()多项式朴素贝叶斯\n",
    "sklearn.naive_bayes.BernoulliNB()伯努利朴素贝叶斯\n",
    "\n",
    "\n",
    "\n",
    "\n",
    "\n"
   ]
  },
  {
   "cell_type": "markdown",
   "metadata": {},
   "source": [
    "决策树的理论基础，具体查看网页：https://zhuanlan.zhihu.com/p/339380585\n"
   ]
  },
  {
   "cell_type": "markdown",
   "metadata": {},
   "source": [
    "### 决策树"
   ]
  },
  {
   "cell_type": "code",
   "execution_count": 1,
   "metadata": {},
   "outputs": [
    {
     "name": "stdout",
     "output_type": "stream",
     "text": [
      "*********模型的预测精度-交叉验证*********\n",
      "0.9533333333333334\n",
      "************重要的特征*************\n",
      "[0.         0.03154079 0.87062348 0.09783573]\n",
      "**********留出法预测集准确率***********\n",
      "0.9777777777777777\n",
      "********留出法预测集精确率-宏平均*********\n",
      "0.9814814814814815\n",
      "********留出法预测集精确率-微平均*********\n",
      "0.9777777777777777\n",
      "**************F1**************\n",
      "0.9781305114638448\n"
     ]
    }
   ],
   "source": [
    "#决策树-ID3\n",
    "import pandas as pd\n",
    "import numpy as np\n",
    "import sklearn.datasets as datasets\n",
    "from sklearn.tree import DecisionTreeClassifier\n",
    "from sklearn.model_selection import train_test_split,cross_val_score\n",
    "from sklearn.tree import export_graphviz#可视化\n",
    "from sklearn.metrics import accuracy_score#计算准确率\n",
    "from sklearn.metrics import precision_score#查准率：预测为正的样本中，实际上也是正例的比例\n",
    "from sklearn.metrics import recall_score#查全率/召回率，实际为正的样本中被预测为正的样本所占比例\n",
    "from sklearn.metrics import f1_score\n",
    "#以鸢尾花数据集分类为例\n",
    "iris = datasets.load_iris()\n",
    "x = iris.data\n",
    "y = iris.target\n",
    "names = iris.feature_names\n",
    "#划分训练集和测试集\n",
    "xtrain,xtest,ytrain,ytest = train_test_split(x,y,test_size = 0.3)#自带shuffle\n",
    "#训练ID3决策树\n",
    "dtree = DecisionTreeClassifier(criterion = \"entropy\")\n",
    "dtree.fit(xtrain,ytrain)\n",
    "#使用10次交叉验证进行预测\n",
    "score = cross_val_score(dtree,x,y,cv=10,scoring = \"accuracy\")\n",
    "print(np.char.center(\"模型的预测精度-交叉验证\",30,fillchar = \"*\"))\n",
    "print(np.mean(score))\n",
    "print(np.char.center(\"重要的特征\",30,fillchar=\"*\"))\n",
    "print(dtree.feature_importances_)\n",
    "#法二：留出法\n",
    "ypredict = dtree.predict(xtest)\n",
    "acc = accuracy_score(ytest,ypredict)#准确率\n",
    "acc_macro = precision_score(ytest,ypredict,average = \"macro\")#宏平均查准率\n",
    "acc_micro = precision_score(ytest,ypredict,average = \"micro\")#微平均查准率\n",
    "recall_macro = recall_score(ytest,ypredict,average = \"macro\")#宏查全率\n",
    "recall_micro = recall_score(ytest,ypredict,average = \"micro\")#微查全率\n",
    "F1 = f1_score(ytest,ypredict,average  = \"macro\")\n",
    "#print(np.char.center(\"留出法预测结果\",30,fillchar = \"*\"))\n",
    "#print(ypredict)\n",
    "print(np.char.center(\"留出法预测集准确率\",30,fillchar = \"*\"))\n",
    "print(acc)\n",
    "print(np.char.center(\"留出法预测集精确率-宏平均\",30,fillchar = \"*\"))\n",
    "print(acc_macro)\n",
    "print(np.char.center(\"留出法预测集精确率-微平均\",30,fillchar = \"*\"))\n",
    "print(acc_micro)\n",
    "print(np.char.center(\"F1\",30,fillchar = \"*\"))\n",
    "print(F1)\n",
    "\n"
   ]
  },
  {
   "cell_type": "code",
   "execution_count": 2,
   "metadata": {},
   "outputs": [
    {
     "name": "stdout",
     "output_type": "stream",
     "text": [
      "sklearn version is 0.24.2\n"
     ]
    }
   ],
   "source": [
    "#查看sklearn 版本\n",
    "import sklearn\n",
    "print(\"sklearn version is {}\".format(sklearn.__version__))"
   ]
  },
  {
   "cell_type": "code",
   "execution_count": 3,
   "metadata": {},
   "outputs": [],
   "source": [
    "#决策树的可视化\n",
    "#绘制决策树\n",
    "import pydotplus\n",
    "from IPython.display import Image\n",
    "import os\n",
    "from sklearn import tree"
   ]
  },
  {
   "cell_type": "code",
   "execution_count": 4,
   "metadata": {},
   "outputs": [],
   "source": [
    "#添加环境变量\n",
    "os.environ[\"PATH\"] += os.pathsep + 'C:/Program Files/Graphviz/bin/'"
   ]
  },
  {
   "cell_type": "code",
   "execution_count": 5,
   "metadata": {},
   "outputs": [
    {
     "data": {
      "text/plain": [
       "True"
      ]
     },
     "execution_count": 5,
     "metadata": {},
     "output_type": "execute_result"
    }
   ],
   "source": [
    "dot_tree = tree.export_graphviz(dtree,feature_names=names,class_names=iris.target_names,filled=True, rounded=True,special_characters=True)\n",
    "graph = pydotplus.graph_from_dot_data(dot_tree)\n",
    "img = Image(graph.create_png())\n",
    "graph.write_png(\"out_01.png\")#图片直接输入到该machine learning 文件夹\n"
   ]
  },
  {
   "cell_type": "code",
   "execution_count": 14,
   "metadata": {
    "collapsed": true
   },
   "outputs": [
    {
     "ename": "ValueError",
     "evalue": "multiclass format is not supported",
     "output_type": "error",
     "traceback": [
      "\u001b[1;31m---------------------------------------------------------------------------\u001b[0m",
      "\u001b[1;31mValueError\u001b[0m                                Traceback (most recent call last)",
      "\u001b[1;32m<ipython-input-14-613a1bb0d68f>\u001b[0m in \u001b[0;36m<module>\u001b[1;34m()\u001b[0m\n\u001b[0;32m      2\u001b[0m \u001b[1;32mimport\u001b[0m \u001b[0mmatplotlib\u001b[0m\u001b[1;33m.\u001b[0m\u001b[0mpyplot\u001b[0m \u001b[1;32mas\u001b[0m \u001b[0mplt\u001b[0m\u001b[1;33m\u001b[0m\u001b[0m\n\u001b[0;32m      3\u001b[0m \u001b[1;32mfrom\u001b[0m \u001b[0msklearn\u001b[0m\u001b[1;33m.\u001b[0m\u001b[0mmetrics\u001b[0m \u001b[1;32mimport\u001b[0m \u001b[0mroc_curve\u001b[0m\u001b[1;33m\u001b[0m\u001b[0m\n\u001b[1;32m----> 4\u001b[1;33m \u001b[0mfpr\u001b[0m\u001b[1;33m,\u001b[0m\u001b[0mtpr\u001b[0m\u001b[1;33m,\u001b[0m\u001b[0mthresholds\u001b[0m \u001b[1;33m=\u001b[0m \u001b[0mroc_curve\u001b[0m\u001b[1;33m(\u001b[0m\u001b[0mytest\u001b[0m\u001b[1;33m,\u001b[0m\u001b[0mdtree\u001b[0m\u001b[1;33m.\u001b[0m\u001b[0mpredict_proba\u001b[0m\u001b[1;33m(\u001b[0m\u001b[0mxtest\u001b[0m\u001b[1;33m)\u001b[0m\u001b[1;33m)\u001b[0m\u001b[1;33m\u001b[0m\u001b[0m\n\u001b[0m\u001b[0;32m      5\u001b[0m \u001b[0mplt\u001b[0m\u001b[1;33m.\u001b[0m\u001b[0mplot\u001b[0m\u001b[1;33m(\u001b[0m\u001b[0mfpr\u001b[0m\u001b[1;33m,\u001b[0m\u001b[0mtpr\u001b[0m\u001b[1;33m,\u001b[0m\u001b[0mlabel\u001b[0m \u001b[1;33m=\u001b[0m \u001b[1;34m\"roc_curve\"\u001b[0m\u001b[1;33m)\u001b[0m\u001b[1;33m\u001b[0m\u001b[0m\n\u001b[0;32m      6\u001b[0m \u001b[0mplt\u001b[0m\u001b[1;33m.\u001b[0m\u001b[0mxlabel\u001b[0m\u001b[1;33m(\u001b[0m\u001b[1;34m'FPR'\u001b[0m\u001b[1;33m)\u001b[0m\u001b[1;33m\u001b[0m\u001b[0m\n",
      "\u001b[1;32mD:\\anaconda\\lib\\site-packages\\sklearn\\utils\\validation.py\u001b[0m in \u001b[0;36minner_f\u001b[1;34m(*args, **kwargs)\u001b[0m\n\u001b[0;32m     61\u001b[0m             \u001b[0mextra_args\u001b[0m \u001b[1;33m=\u001b[0m \u001b[0mlen\u001b[0m\u001b[1;33m(\u001b[0m\u001b[0margs\u001b[0m\u001b[1;33m)\u001b[0m \u001b[1;33m-\u001b[0m \u001b[0mlen\u001b[0m\u001b[1;33m(\u001b[0m\u001b[0mall_args\u001b[0m\u001b[1;33m)\u001b[0m\u001b[1;33m\u001b[0m\u001b[0m\n\u001b[0;32m     62\u001b[0m             \u001b[1;32mif\u001b[0m \u001b[0mextra_args\u001b[0m \u001b[1;33m<=\u001b[0m \u001b[1;36m0\u001b[0m\u001b[1;33m:\u001b[0m\u001b[1;33m\u001b[0m\u001b[0m\n\u001b[1;32m---> 63\u001b[1;33m                 \u001b[1;32mreturn\u001b[0m \u001b[0mf\u001b[0m\u001b[1;33m(\u001b[0m\u001b[1;33m*\u001b[0m\u001b[0margs\u001b[0m\u001b[1;33m,\u001b[0m \u001b[1;33m**\u001b[0m\u001b[0mkwargs\u001b[0m\u001b[1;33m)\u001b[0m\u001b[1;33m\u001b[0m\u001b[0m\n\u001b[0m\u001b[0;32m     64\u001b[0m \u001b[1;33m\u001b[0m\u001b[0m\n\u001b[0;32m     65\u001b[0m             \u001b[1;31m# extra_args > 0\u001b[0m\u001b[1;33m\u001b[0m\u001b[1;33m\u001b[0m\u001b[0m\n",
      "\u001b[1;32mD:\\anaconda\\lib\\site-packages\\sklearn\\metrics\\_ranking.py\u001b[0m in \u001b[0;36mroc_curve\u001b[1;34m(y_true, y_score, pos_label, sample_weight, drop_intermediate)\u001b[0m\n\u001b[0;32m    912\u001b[0m     \"\"\"\n\u001b[0;32m    913\u001b[0m     fps, tps, thresholds = _binary_clf_curve(\n\u001b[1;32m--> 914\u001b[1;33m         y_true, y_score, pos_label=pos_label, sample_weight=sample_weight)\n\u001b[0m\u001b[0;32m    915\u001b[0m \u001b[1;33m\u001b[0m\u001b[0m\n\u001b[0;32m    916\u001b[0m     \u001b[1;31m# Attempt to drop thresholds corresponding to points in between and\u001b[0m\u001b[1;33m\u001b[0m\u001b[1;33m\u001b[0m\u001b[0m\n",
      "\u001b[1;32mD:\\anaconda\\lib\\site-packages\\sklearn\\metrics\\_ranking.py\u001b[0m in \u001b[0;36m_binary_clf_curve\u001b[1;34m(y_true, y_score, pos_label, sample_weight)\u001b[0m\n\u001b[0;32m    689\u001b[0m     if not (y_type == \"binary\" or\n\u001b[0;32m    690\u001b[0m             (y_type == \"multiclass\" and pos_label is not None)):\n\u001b[1;32m--> 691\u001b[1;33m         \u001b[1;32mraise\u001b[0m \u001b[0mValueError\u001b[0m\u001b[1;33m(\u001b[0m\u001b[1;34m\"{0} format is not supported\"\u001b[0m\u001b[1;33m.\u001b[0m\u001b[0mformat\u001b[0m\u001b[1;33m(\u001b[0m\u001b[0my_type\u001b[0m\u001b[1;33m)\u001b[0m\u001b[1;33m)\u001b[0m\u001b[1;33m\u001b[0m\u001b[0m\n\u001b[0m\u001b[0;32m    692\u001b[0m \u001b[1;33m\u001b[0m\u001b[0m\n\u001b[0;32m    693\u001b[0m     \u001b[0mcheck_consistent_length\u001b[0m\u001b[1;33m(\u001b[0m\u001b[0my_true\u001b[0m\u001b[1;33m,\u001b[0m \u001b[0my_score\u001b[0m\u001b[1;33m,\u001b[0m \u001b[0msample_weight\u001b[0m\u001b[1;33m)\u001b[0m\u001b[1;33m\u001b[0m\u001b[0m\n",
      "\u001b[1;31mValueError\u001b[0m: multiclass format is not supported"
     ]
    }
   ],
   "source": [
    "#绘制ROC曲线,一般适用于二分类，多分类也可以但是结果比较难看，\n",
    "#https://scikit-learn.org/stable/auto_examples/model_selection/plot_roc.html\n",
    "import matplotlib.pyplot as plt\n",
    "from sklearn.metrics import roc_curve\n",
    "fpr,tpr,thresholds = roc_curve(ytest,dtree.predict_proba(xtest),pos_label = 1)\n",
    "plt.plot(fpr,tpr,label = \"roc_curve\")\n",
    "plt.xlabel('FPR')\n",
    "plt.ylabel(\"TPR\")\n",
    "plt.show()"
   ]
  },
  {
   "cell_type": "code",
   "execution_count": 1,
   "metadata": {},
   "outputs": [],
   "source": [
    "#######C4.5#################\n",
    "import numpy as np\n",
    "import pandas as pd\n",
    "import math\n",
    "import collections"
   ]
  },
  {
   "cell_type": "code",
   "execution_count": 2,
   "metadata": {},
   "outputs": [],
   "source": [
    "#导入数据集\n",
    "from sklearn import datasets\n",
    "from sklearn.model_selection import train_test_split\n",
    "iris = datasets.load_iris()\n",
    "x = iris.data\n",
    "y = iris.target\n",
    "feature_labels = [\"花萼长度\",\"花萼宽度\",\"花瓣长度\",\"花瓣宽度\"]\n",
    "y_labels = iris.target_names\n",
    "xtrain,xtest,ytrain,ytest = train_test_split(x,y,test_size = 0.3)"
   ]
  },
  {
   "cell_type": "code",
   "execution_count": 3,
   "metadata": {},
   "outputs": [],
   "source": [
    "X = pd.DataFrame(x)\n",
    "Y = pd.DataFrame(y)\n",
    "dataset = pd.concat([X,Y],axis=1)\n"
   ]
  },
  {
   "cell_type": "code",
   "execution_count": 4,
   "metadata": {},
   "outputs": [],
   "source": [
    "dataset = np.array(dataset)"
   ]
  },
  {
   "cell_type": "code",
   "execution_count": 5,
   "metadata": {},
   "outputs": [],
   "source": [
    "dataset = dataset.tolist()"
   ]
  },
  {
   "cell_type": "code",
   "execution_count": 9,
   "metadata": {},
   "outputs": [],
   "source": [
    "#每个特征的种类\n",
    "labels_full = {}\n",
    "for i in range(len(feature_labels)):\n",
    "    labellist = [example[i] for example in dataset]\n",
    "    uniquelabel = set(labellist)\n",
    "    labels_full[feature_labels[i]] = uniquelabel"
   ]
  },
  {
   "cell_type": "code",
   "execution_count": 10,
   "metadata": {},
   "outputs": [],
   "source": [
    "#计算初始的信息熵，也就是不分类之前的信息熵\n",
    "def calcshannonent(dataset):\n",
    "    #计算出数据集的总数\n",
    "    numentries = len(dataset)\n",
    "    #统计标签\n",
    "    labelcounts = collections.defaultdict(int)\n",
    "    #循环整个数据集，得到分类标签\n",
    "    for featvec in dataset:\n",
    "        currentlabel = featvec[-1]\n",
    "        labelcounts[currentlabel] = labelcounts[currentlabel]+1\n",
    "    \n",
    "    shannonent = 0.0\n",
    "    \n",
    "    for key in labelcounts:\n",
    "        #计算出当前分类标签占总标签的比例个数\n",
    "        prob = float(labelcounts[key])/numentries\n",
    "        #求对数\n",
    "        shannonent = prob*math.log2(prob)\n",
    "    return shannonent\n"
   ]
  },
  {
   "cell_type": "code",
   "execution_count": 11,
   "metadata": {},
   "outputs": [
    {
     "name": "stdout",
     "output_type": "stream",
     "text": [
      "-0.5283208335737187\n"
     ]
    }
   ],
   "source": [
    "#查看初始的信息熵,因为计算的时候仅仅涉及到标签数据集，所以dataset=y\n",
    "print(calcshannonent(dataset))\n"
   ]
  },
  {
   "cell_type": "code",
   "execution_count": 12,
   "metadata": {},
   "outputs": [],
   "source": [
    "#判断各个样本的各个属性是否一致、\n",
    "def judgeEqualLabels(dataset):\n",
    "    #计算出样本集中一共有多少个属性，最后一个为类别\n",
    "    feature_leng = len(dataset[0])-1\n",
    "    #计算出一共有多少个数据\n",
    "    data_leng = len(dataset)\n",
    "    #标记每个属性中第一个属性值是什么\n",
    "    first_feature = \"\"\n",
    "    #各个属性集是否完全一致\n",
    "    is_equal = True\n",
    "    #遍历全部属性\n",
    "    for i in range(feature_leng):\n",
    "        #得到第一个样本的第i个属性\n",
    "        frist_feature = dataset[0][i]\n",
    "        #与样本集中所有数据进行对比，看看在属性上是否都一致\n",
    "        for _ in range(1,data_leng):\n",
    "            if frist_feature != dataset[_][i]:\n",
    "                return False\n",
    "    return is_equal\n",
    "            "
   ]
  },
  {
   "cell_type": "code",
   "execution_count": 13,
   "metadata": {},
   "outputs": [],
   "source": [
    "#获取每个特征值的数量，为后面计算信息增益做准备\n",
    "def splitdataset(dataset,axis,value):\n",
    "    redataset = []\n",
    "    for featvec in dataset:\n",
    "        if featvec[axis] == value:\n",
    "            reducedfeatvec = featvec[:axis]#将该特征值以前的数据保存下来\n",
    "            reducedfeatvec.extend(featvec[axis+1:])\n",
    "            redataset.append(reducedfeatvec)\n",
    "    return redataset\n",
    "\n",
    "def choosebestfeaturetosplit(dataset,feature_labels):#选择最好的数据集划分特征\n",
    "    numFeatures = len(dataset[0])-1\n",
    "    #计算出基础信息熵\n",
    "    baseentropy = calcshannonent(dataset)\n",
    "    #基础信息增益\n",
    "    bestinfogain = 0.0\n",
    "    bestfeature = -1\n",
    "    #对每个特征值进行求信息熵：\n",
    "    for i in range(numFeatures):\n",
    "        featlist = [example[i] for example in dataset]\n",
    "        uniquevals = set(featlist)\n",
    "        newentropy = 0.0\n",
    "        for value in uniquevals:\n",
    "            subdataset = splitdataset(dataset = dataset,axis=i,value = value)\n",
    "            prob = len(subdataset)/float(len(dataset))\n",
    "            newentropy += prob*calcshannonent(subdataset)\n",
    "            \n",
    "        infogain = baseentropy-newentropy\n",
    "        infogain = infogain/(newentropy+0.1)\n",
    "        \n",
    "        if infogain>bestinfogain:\n",
    "            bestinfogain = infogain\n",
    "            bestfeature = i\n",
    "    return bestfeature\n",
    "        "
   ]
  },
  {
   "cell_type": "code",
   "execution_count": 14,
   "metadata": {},
   "outputs": [],
   "source": [
    "#创建树的函数\n",
    "def createtree(dataset,feature_labels):\n",
    "    #所有数据集的分类标签\n",
    "    classlist = [example[-1] for example in dataset]\n",
    "    \n",
    "    if classlist.count(classlist[0])==len(classlist):\n",
    "        return classlist[0]\n",
    "    if len(dataset[0]) == 1 or judgeEqualLabels(dataset):\n",
    "        return majorityCnt(classlist)\n",
    "    bestFeat = choosebestfeaturetosplit(dataset = dataset,feature_labels = feature_labels)\n",
    "    print(bestFeat)\n",
    "    bestFeatlabel = feature_labels[bestFeat]\n",
    "    print(bestFeatlabel)\n",
    "    mytree = {bestFeatlabel:{}}\n",
    "    del(feature_labels[bestFeat])\n",
    "    featvalues = [example[bestFeat] for example in dataset]\n",
    "    uniquevals = set(featvalues)\n",
    "    \n",
    "    for value in uniquevals:\n",
    "        sublabels = feature_labels[:]\n",
    "        subtree = createtree(splitdataset(dataset = dataset,axis = bestFeat,value = value),sublabels)\n",
    "        mytree[bestFeatlabel][value] = subtree\n",
    "    return mytree\n",
    "    "
   ]
  },
  {
   "cell_type": "code",
   "execution_count": 15,
   "metadata": {
    "collapsed": true
   },
   "outputs": [
    {
     "name": "stdout",
     "output_type": "stream",
     "text": [
      "0\n",
      "花萼长度\n",
      "-1\n",
      "花瓣宽度\n",
      "-1\n",
      "花瓣宽度\n",
      "-1\n",
      "花瓣宽度\n",
      "-1\n",
      "花瓣宽度\n",
      "-1\n",
      "花瓣宽度\n",
      "0\n",
      "花萼宽度\n",
      "-1\n",
      "花瓣宽度\n",
      "0\n",
      "花萼宽度\n",
      "-1\n",
      "花瓣宽度\n",
      "-1\n",
      "花瓣宽度\n",
      "0\n",
      "花萼宽度\n",
      "-1\n",
      "花瓣宽度\n",
      "-1\n",
      "花瓣宽度\n",
      "0\n",
      "花萼宽度\n",
      "-1\n",
      "花瓣宽度\n",
      "0\n",
      "花萼宽度\n",
      "-1\n",
      "花瓣宽度\n",
      "0\n",
      "花萼宽度\n",
      "-1\n",
      "花瓣宽度\n",
      "-1\n",
      "花瓣宽度\n",
      "-1\n",
      "花瓣宽度\n",
      "1\n",
      "花瓣长度\n",
      "-1\n",
      "花瓣宽度\n",
      "0\n",
      "花萼宽度\n",
      "-1\n",
      "花瓣宽度\n",
      "-1\n",
      "花瓣宽度\n",
      "-1\n",
      "花瓣宽度\n",
      "-1\n",
      "花瓣宽度\n",
      "{'花萼长度': {4.7: 0.0, 5.5: {'花瓣宽度': {0.0: 0.0, 1.0: 1.0}}, 5.0: {'花瓣宽度': {0.0: 0.0, 1.0: 1.0}}, 4.9: {'花瓣宽度': {0.0: 0.0, 1.0: 1.0, 2.0: 2.0}}, 5.1: {'花瓣宽度': {0.0: 0.0, 1.0: 1.0}}, 4.6: 0.0, 5.4: {'花瓣宽度': {0.0: 0.0, 1.0: 1.0}}, 4.4: 0.0, 4.8: 0.0, 4.3: 0.0, 5.8: {'花萼宽度': {2.7: {'花瓣宽度': {1.0: 1.0, 2.0: 2.0}}, 2.6: 1.0, 4.0: 0.0, 2.8: 2.0}}, 7.0: 1.0, 7.1: 2.0, 4.5: 0.0, 5.9: {'花萼宽度': {3.2: 1.0, 3.0: {'花瓣宽度': {1.0: 1.0, 2.0: 2.0}}}}, 5.6: {'花瓣宽度': {1.0: 1.0, 2.0: 2.0}}, 6.9: {'花萼宽度': {3.2: 2.0, 3.1: {'花瓣宽度': {1.0: 1.0, 2.0: 2.0}}}}, 6.5: {'花瓣宽度': {1.0: 1.0, 2.0: 2.0}}, 6.4: {'花萼宽度': {2.9: 1.0, 3.1: 2.0, 3.2: {'花瓣宽度': {1.0: 1.0, 2.0: 2.0}}, 2.8: 2.0, 2.7: 2.0}}, 6.6: 1.0, 6.0: {'花萼宽度': {2.2: {'花瓣宽度': {1.0: 1.0, 2.0: 2.0}}, 3.4: 1.0, 3.0: 2.0, 2.9: 1.0, 2.7: 1.0}}, 6.1: {'花萼宽度': {3.0: {'花瓣宽度': {1.0: 1.0, 2.0: 2.0}}, 2.9: 1.0, 2.8: 1.0, 2.6: 2.0}}, 7.6: 2.0, 7.4: 2.0, 7.9: 2.0, 5.7: {'花瓣宽度': {0.0: 0.0, 1.0: 1.0, 2.0: 2.0}}, 5.3: 0.0, 5.2: {'花瓣宽度': {0.0: 0.0, 1.0: 1.0}}, 6.3: {'花瓣长度': {4.7: 1.0, 5.6: 2.0, 4.9: {'花瓣宽度': {1.0: 1.0, 2.0: 2.0}}, 4.4: 1.0, 6.0: 2.0, 5.1: 2.0, 5.0: 2.0}}, 6.7: {'花萼宽度': {3.0: {'花瓣宽度': {1.0: 1.0, 2.0: 2.0}}, 2.5: 2.0, 3.1: {'花瓣宽度': {1.0: 1.0, 2.0: 2.0}}, 3.3: 2.0}}, 6.2: {'花瓣宽度': {1.0: 1.0, 2.0: 2.0}}, 6.8: {'花瓣宽度': {1.0: 1.0, 2.0: 2.0}}, 7.3: 2.0, 7.2: 2.0, 7.7: 2.0}}\n"
     ]
    }
   ],
   "source": [
    "#打印决策树\n",
    "mytree = createtree(dataset,feature_labels)\n",
    "print(mytree)"
   ]
  },
  {
   "cell_type": "code",
   "execution_count": 30,
   "metadata": {},
   "outputs": [
    {
     "data": {
      "image/png": "[encoded data removed]",
      "text/plain": [
       "<Figure size 432x288 with 1 Axes>"
      ]
     },
     "metadata": {},
     "output_type": "display_data"
    }
   ],
   "source": [
    "#决策树的可视化\n",
    "import matplotlib.pyplot as plt\n",
    "import matplotlib\n",
    "#显示中文\n",
    "matplotlib.rcParams[\"font.sans-serif\"] =[\"Simhei\"]\n",
    "matplotlib.rcParams['font.serif'] = ['Simhei']\n",
    "#分叉节点\n",
    "decisionNode = dict(boxstyle = \"sawtooth\",fc = \"0.8\")\n",
    "#叶子节点\n",
    "leafNode = dict(boxstyle = \"round4\",fc = \"0.8\")\n",
    "#箭头样式\n",
    "arrow_args = dict(arrowstyle = \"<-\")\n",
    "\n",
    "def plotNode(nodeTxt,centerPt,parentPt,nodeType):\n",
    "    '''\n",
    "    绘制节点\n",
    "    nodeTxt:描述该节点的文本信息\n",
    "    centerPt:文本的坐标\n",
    "    parentPt:点的坐标\n",
    "    nodeType:节点类型，分为叶子节点和决策节点\n",
    "    '''\n",
    "    createPlot.ax1.annotate(nodeTxt,xy = parentPt,xycoords = \"axes fraction\",xytext = centerPt,textcoords = \"axes fraction\",\n",
    "                           va = \"center\",ha = \"center\",bbox = nodeType,arrowprops = arrow_args)\n",
    "    \n",
    "def getNumLeafs(mytree):\n",
    "    '''\n",
    "    获取叶子节点的数目\n",
    "    '''\n",
    "    numLeafs = 0\n",
    "    firststr = list(mytree.keys())[0]\n",
    "    secondDict= mytree[firststr]\n",
    "     #遍历叶子节点\n",
    "    for key in secondDict.keys():\n",
    "        if type(secondDict[key]).__name__ == \"dict\":\n",
    "            numLeafs += getNumLeafs(secondDict[key])\n",
    "        else:\n",
    "            numLeafs += 1\n",
    "    return numLeafs\n",
    "\n",
    "def getTreeDepth(mytree):\n",
    "    maxDepth = 0\n",
    "    firststr = list(mytree.keys())[0]\n",
    "    secondDict = mytree[firststr]\n",
    "    for key in secondDict.keys():\n",
    "        if type(secondDict[key]).__name__ == \"dict\":\n",
    "            thisDepth = 1+getTreeDepth(secondDict[key])\n",
    "        else:\n",
    "            thisDepth = 1\n",
    "        if thisDepth > maxDepth:\n",
    "            maxDepth = thisDepth\n",
    "    return maxDepth\n",
    "\n",
    "def plotMidText(cntrPt,parentPt,txtstring):\n",
    "    #计算x轴的中间位置\n",
    "    xMid = (parentPt[0]-cntrPt[0])/2.0 + cntrPt[0]\n",
    "    #计算y轴的中间位置\n",
    "    yMid = (parentPt[1]-cntrPt[1])/2.0 + cntrPt[1]\n",
    "    #进行绘制\n",
    "    createPlot.ax1.text(xMid,yMid,txtstring)\n",
    "    \n",
    "def plottree(mytree,parentPt,nodeTxt):\n",
    "    #计算叶子节点数\n",
    "    numLeafs = getNumLeafs(mytree = mytree)\n",
    "    #计算树的深度\n",
    "    depth = getTreeDepth(mytree = mytree)\n",
    "    #得到根节点的信息内容\n",
    "    firststr = list(mytree.keys())[0]\n",
    "    #计算出当前根节点在所有子节点的中间坐标\n",
    "    cntrPt = (plottree.xOff+(1.0+float(numLeafs))/2.0/plottree.totalW,plottree.yOff)\n",
    "    #绘制该节点与父节点的联系\n",
    "    plotMidText(cntrPt,parentPt,nodeTxt)\n",
    "    #绘制该节点\n",
    "    plotNode(firststr,cntrPt,parentPt,decisionNode)\n",
    "    #得到当前根节点对应的子树\n",
    "    secondDict = mytree[firststr]\n",
    "    #计算出新的y轴偏移量\n",
    "    plottree.yOff = plottree.yOff - 1.0/plottree.totalD\n",
    "    \n",
    "    for key in secondDict.keys():\n",
    "        if isinstance(secondDict[key],dict):\n",
    "            plottree(secondDict[key],cntrPt,str(key))\n",
    "        else:\n",
    "            plottree.xOff = plottree.xOff + 1.0/plottree.totalW\n",
    "            plotNode(secondDict[key],(plottree.xOff,plottree.yOff),cntrPt,leafNode)\n",
    "            plotMidText((plottree.xOff,plottree.yOff),cntrPt,str(key))\n",
    "    plottree.yOff = plottree.yOff + 1.0/plottree.totalD\n",
    "\n",
    "def createPlot(inTree):\n",
    "    \"\"\"\n",
    "    需要绘制的决策树\n",
    "    :param inTree: 决策树字典\n",
    "    :return:\n",
    "    \"\"\"\n",
    "    # 创建一个图像\n",
    "    fig = plt.figure(1, facecolor='white')\n",
    "    fig.clf()\n",
    "    axprops = dict(xticks=[], yticks=[])\n",
    "    createPlot.ax1 = plt.subplot(111, frameon=False, **axprops)\n",
    "    # 计算出决策树的总宽度\n",
    "    plottree.totalW = float(getNumLeafs(inTree))\n",
    "    # 计算出决策树的总深度\n",
    "    plottree.totalD = float(getTreeDepth(inTree))\n",
    "    # 初始的x轴偏移量，也就是-1/2W，每次向右移动1/W，也就是第一个叶子节点绘制的x坐标为：1/2W，第二个：3/2W，第三个：5/2W，最后一个：(W-1)/2W\n",
    "    plottree.xOff = -0.5/plottree.totalW\n",
    "    # 初始的y轴偏移量，每次向下或者向上移动1/D\n",
    "    plottree.yOff = 1.0\n",
    "    # 调用函数进行绘制节点图像\n",
    "    plottree(inTree, (0.5, 1.0), '')\n",
    "    # 绘制\n",
    "    plt.show()\n",
    "if __name__ == \"__main__\":\n",
    "    createPlot(mytree)"
   ]
  },
  {
   "cell_type": "code",
   "execution_count": null,
   "metadata": {},
   "outputs": [],
   "source": [
    "#这是没有把连续变量值离散化以后的结果，正常的分类应该要先把连续变量离散化处理"
   ]
  },
  {
   "cell_type": "code",
   "execution_count": 31,
   "metadata": {},
   "outputs": [
    {
     "name": "stdout",
     "output_type": "stream",
     "text": [
      "*********模型的预测精度-交叉验证*********\n",
      "0.96\n",
      "************重要的特征*************\n",
      "[0.04794521 0.         0.55313488 0.39891992]\n",
      "**********留出法预测集准确率***********\n",
      "0.9555555555555556\n",
      "********留出法预测集精确率-宏平均*********\n",
      "0.9444444444444445\n",
      "********留出法预测集精确率-微平均*********\n",
      "0.9555555555555556\n",
      "**************F1**************\n",
      "0.952153110047847\n"
     ]
    }
   ],
   "source": [
    "#cart决策树\n",
    "import pandas as pd\n",
    "import numpy as np\n",
    "import sklearn.datasets as datasets\n",
    "from sklearn.tree import DecisionTreeClassifier\n",
    "from sklearn.model_selection import train_test_split,cross_val_score\n",
    "from sklearn.tree import export_graphviz#可视化\n",
    "from sklearn.metrics import accuracy_score#计算准确率\n",
    "from sklearn.metrics import precision_score#查准率：预测为正的样本中，实际上也是正例的比例\n",
    "from sklearn.metrics import recall_score#查全率/召回率，实际为正的样本中被预测为正的样本所占比例\n",
    "from sklearn.metrics import f1_score\n",
    "#以鸢尾花数据集分类为例\n",
    "iris = datasets.load_iris()\n",
    "x = iris.data\n",
    "y = iris.target\n",
    "names = iris.feature_names\n",
    "#划分训练集和测试集\n",
    "xtrain,xtest,ytrain,ytest = train_test_split(x,y,test_size = 0.3)#自带shuffle\n",
    "#训练ID3决策树\n",
    "dtree = DecisionTreeClassifier(criterion = \"gini\")\n",
    "dtree.fit(xtrain,ytrain)\n",
    "#使用10次交叉验证进行预测\n",
    "score = cross_val_score(dtree,x,y,cv=10,scoring = \"accuracy\")\n",
    "print(np.char.center(\"模型的预测精度-交叉验证\",30,fillchar = \"*\"))\n",
    "print(np.mean(score))\n",
    "print(np.char.center(\"重要的特征\",30,fillchar=\"*\"))\n",
    "print(dtree.feature_importances_)\n",
    "#法二：留出法\n",
    "ypredict = dtree.predict(xtest)\n",
    "acc = accuracy_score(ytest,ypredict)#准确率\n",
    "acc_macro = precision_score(ytest,ypredict,average = \"macro\")#宏平均查准率\n",
    "acc_micro = precision_score(ytest,ypredict,average = \"micro\")#微平均查准率\n",
    "recall_macro = recall_score(ytest,ypredict,average = \"macro\")#宏查全率\n",
    "recall_micro = recall_score(ytest,ypredict,average = \"micro\")#微查全率\n",
    "F1 = f1_score(ytest,ypredict,average  = \"macro\")\n",
    "#print(np.char.center(\"留出法预测结果\",30,fillchar = \"*\"))\n",
    "#print(ypredict)\n",
    "print(np.char.center(\"留出法预测集准确率\",30,fillchar = \"*\"))\n",
    "print(acc)\n",
    "print(np.char.center(\"留出法预测集精确率-宏平均\",30,fillchar = \"*\"))\n",
    "print(acc_macro)\n",
    "print(np.char.center(\"留出法预测集精确率-微平均\",30,fillchar = \"*\"))\n",
    "print(acc_micro)\n",
    "print(np.char.center(\"F1\",30,fillchar = \"*\"))\n",
    "print(F1)\n",
    "\n"
   ]
  },
  {
   "cell_type": "markdown",
   "metadata": {},
   "source": [
    "###########集成学习模型（ensemble Learning）############\n",
    "集成学习主要分为了三大类：\n",
    "Bagging\n",
    "决策树的缺点是高方差，也就是在不同的测试集上的结果差异会比较大，而Bagging的目的就是降低方差。\n",
    "方法：\n",
    "1.通过bootstrap的方法，从一个训练集中反复抽取多个（B个）样本集，\n",
    "2.用B个样本分别拟合出B个模型\n",
    "3.将B个模型的预测结果求平均值，得到Bagging的预测结果\n",
    "Boosting\n",
    "是bagging的改版，每个树木的生成继承了前面的树的经验。\n",
    "Adboosting:初始时，每个训练的样本给出相等的权重，后期注重加权那些训练错误的样本\n",
    "Random Forest\n",
    "随机森林是bagging的改版，使得每个树之间的相关性降低。它迫使每个模型只能考虑一部分特征值"
   ]
  },
  {
   "cell_type": "markdown",
   "metadata": {},
   "source": [
    "### 集成模型\n",
    "sklearn.ensemble.BaggingClassifier()袋装法\n",
    "sklearn.ensemble.AdaBoostClassifier()提升法\n",
    "sklearn.ensemble.RandomForestClassifier()随机森林\n",
    "sklearn.ensemble.ExtraTreesClassifier()极限随机树\n",
    "sklearn.ensemble.RandomTreesEmbedding()嵌入式完全随机树\n",
    "sklearn.GradientBoostingClassifier()梯度提升树\n",
    "sklearn.VotingClassifier()投票分类法\n",
    "xgboost\n",
    "gbdt"
   ]
  },
  {
   "cell_type": "code",
   "execution_count": 36,
   "metadata": {},
   "outputs": [
    {
     "data": {
      "text/plain": [
       "BaggingClassifier(n_estimators=5)"
      ]
     },
     "execution_count": 36,
     "metadata": {},
     "output_type": "execute_result"
    }
   ],
   "source": [
    "#sklearn.ensemble.BaggingClassifier()袋装法\n",
    "from sklearn.datasets import load_iris\n",
    "from sklearn.ensemble import BaggingClassifier\n",
    "from sklearn.model_selection import train_test_split,cross_val_score\n",
    "from sklearn.tree import export_graphviz#可视化\n",
    "from sklearn.metrics import accuracy_score#计算准确率\n",
    "from sklearn.metrics import precision_score#查准率：预测为正的样本中，实际上也是正例的比例\n",
    "from sklearn.metrics import recall_score#查全率/召回率，实际为正的样本中被预测为正的样本所占比例\n",
    "from sklearn.metrics import f1_score\n",
    "import matplotlib as plt\n",
    "#加载数据\n",
    "iris = load_iris()\n",
    "x = iris.data\n",
    "y = iris.target\n",
    "xtrain,xtest,ytrain,ytest = train_test_split(x,y,test_size = 0.3)\n",
    "clf_bagging = BaggingClassifier(n_estimators =5)\n",
    "clf_bagging.fit(xtrain,ytrain)\n"
   ]
  },
  {
   "cell_type": "code",
   "execution_count": 41,
   "metadata": {},
   "outputs": [
    {
     "name": "stdout",
     "output_type": "stream",
     "text": [
      "**********留出法预测集准确率***********\n",
      "0.9777777777777777\n",
      "********留出法预测集精确率-宏平均*********\n",
      "0.9824561403508771\n",
      "********留出法预测集精确率-微平均*********\n",
      "0.9777777777777777\n",
      "**************F1**************\n",
      "0.9776576576576578\n"
     ]
    }
   ],
   "source": [
    "#模型评价\n",
    "#法二：留出法\n",
    "ypredict =clf_bagging.predict(xtest)#预测结果\n",
    "acc = accuracy_score(ytest,ypredict)#准确率\n",
    "acc_macro = precision_score(ytest,ypredict,average = \"macro\")#宏平均查准率\n",
    "acc_micro = precision_score(ytest,ypredict,average = \"micro\")#微平均查准率\n",
    "recall_macro = recall_score(ytest,ypredict,average = \"macro\")#宏查全率\n",
    "recall_micro = recall_score(ytest,ypredict,average = \"micro\")#微查全率\n",
    "F1 = f1_score(ytest,ypredict,average  = \"macro\")\n",
    "#print(np.char.center(\"留出法预测结果\",30,fillchar = \"*\"))\n",
    "#print(ypredict)\n",
    "print(np.char.center(\"留出法预测集准确率\",30,fillchar = \"*\"))\n",
    "print(acc)\n",
    "print(np.char.center(\"留出法预测集精确率-宏平均\",30,fillchar = \"*\"))\n",
    "print(acc_macro)\n",
    "print(np.char.center(\"留出法预测集精确率-微平均\",30,fillchar = \"*\"))\n",
    "print(acc_micro)\n",
    "print(np.char.center(\"F1\",30,fillchar = \"*\"))\n",
    "print(F1)"
   ]
  },
  {
   "cell_type": "code",
   "execution_count": 42,
   "metadata": {},
   "outputs": [
    {
     "name": "stdout",
     "output_type": "stream",
     "text": [
      "十折交叉验证精度\n",
      "0.9466666666666667\n"
     ]
    }
   ],
   "source": [
    "#sklearn.ensemble.AdaBoostClassifier()提升法\n",
    "from sklearn.model_selection import cross_val_score\n",
    "from sklearn.ensemble import AdaBoostClassifier\n",
    "clf_adaboost = AdaBoostClassifier(n_estimators = 5)\n",
    "scores = cross_val_score(clf_adaboost,x,y,cv=10,scoring = \"accuracy\")\n",
    "print(\"十折交叉验证精度\")\n",
    "print(scores.mean())"
   ]
  },
  {
   "cell_type": "code",
   "execution_count": 1,
   "metadata": {},
   "outputs": [],
   "source": [
    "#gradient boosting(GBDT)\n",
    "from sklearn.model_selection import cross_val_score,train_test_split\n",
    "from sklearn.ensemble import GradientBoostingClassifier\n",
    "from sklearn.datasets import load_iris\n"
   ]
  },
  {
   "cell_type": "code",
   "execution_count": 3,
   "metadata": {},
   "outputs": [],
   "source": [
    "iris = load_iris()\n",
    "x = iris.data\n",
    "y = iris.target\n",
    "xtrain,xtest,ytrain,ytest = train_test_split(x,y,test_size = 0.3)\n",
    "clf_gradBoost = GradientBoostingClassifier(n_estimators= 5)\n",
    "clf_gradBoost.fit(xtrain,ytrain)\n",
    "y_predict = clf_gradBoost.predict(xtest)"
   ]
  },
  {
   "cell_type": "code",
   "execution_count": 4,
   "metadata": {},
   "outputs": [
    {
     "name": "stdout",
     "output_type": "stream",
     "text": [
      "acc: 0.9333333333333333\n"
     ]
    }
   ],
   "source": [
    "from sklearn.metrics import accuracy_score#计算准确率\n",
    "from sklearn.metrics import precision_score#查准率：预测为正的样本中，实际上也是正例的比例\n",
    "from sklearn.metrics import recall_score#查全率/召回率，实际为正的样本中被预测为正的样本所占比例\n",
    "from sklearn.metrics import f1_score\n",
    "\n",
    "acc = accuracy_score(ytest,y_predict)\n",
    "print(\"acc:\",acc)\n"
   ]
  },
  {
   "cell_type": "code",
   "execution_count": 10,
   "metadata": {},
   "outputs": [
    {
     "name": "stdout",
     "output_type": "stream",
     "text": [
      "0.9555555555555556\n"
     ]
    }
   ],
   "source": [
    "#random forest\n",
    "from sklearn.ensemble import RandomForestClassifier\n",
    "clf_RF = RandomForestClassifier(n_estimators=5,max_depth=5)\n",
    "clf_RF.fit(xtrain,ytrain)\n",
    "y_predict = clf_RF.predict(xtest)\n",
    "acc = accuracy_score(ytest,y_predict)\n",
    "print(acc)"
   ]
  },
  {
   "cell_type": "code",
   "execution_count": 14,
   "metadata": {},
   "outputs": [],
   "source": [
    "#xgboost\n",
    "#http://www.uml.org.cn/sjjmwj/201903092.asp\n",
    "from xgboost import XGBClassifier\n",
    "from sklearn.datasets import load_iris\n",
    "from sklearn.model_selection import train_test_split\n",
    "from sklearn.metrics import accuracy_score"
   ]
  },
  {
   "cell_type": "code",
   "execution_count": 18,
   "metadata": {},
   "outputs": [],
   "source": [
    "#加载数据集\n",
    "iris = load_iris()\n",
    "x = iris.data\n",
    "y = iris.target\n",
    "xtrain,xtest,ytrain,ytest = train_test_split(x,y,test_size=0.3)\n"
   ]
  },
  {
   "cell_type": "code",
   "execution_count": 19,
   "metadata": {},
   "outputs": [
    {
     "data": {
      "text/plain": [
       "XGBClassifier(base_score=0.5, booster='gbtree', callbacks=None,\n",
       "              colsample_bylevel=1, colsample_bynode=1, colsample_bytree=1,\n",
       "              early_stopping_rounds=None, enable_categorical=False,\n",
       "              eval_metric=None, gamma=0, gpu_id=-1, grow_policy='depthwise',\n",
       "              importance_type=None, interaction_constraints='',\n",
       "              learning_rate=0.300000012, max_bin=256, max_cat_to_onehot=4,\n",
       "              max_delta_step=0, max_depth=6, max_leaves=0, min_child_weight=1,\n",
       "              missing=nan, monotone_constraints='()', n_estimators=10, n_jobs=0,\n",
       "              num_parallel_tree=1, objective='multi:softprob', predictor='auto',\n",
       "              random_state=0, reg_alpha=0, ...)"
      ]
     },
     "execution_count": 19,
     "metadata": {},
     "output_type": "execute_result"
    }
   ],
   "source": [
    "#训练模型\n",
    "clf_xg = XGBClassifier(n_estimators = 10)\n",
    "clf_xg.fit(xtrain,ytrain)"
   ]
  },
  {
   "cell_type": "code",
   "execution_count": 22,
   "metadata": {},
   "outputs": [
    {
     "name": "stdout",
     "output_type": "stream",
     "text": [
      "f1: 1.0\n"
     ]
    }
   ],
   "source": [
    "#预测\n",
    "y_predict = clf_xg.predict(xtest)\n",
    "from sklearn.metrics import f1_score\n",
    "F1 = f1_score(ytest,y_predict,average = \"macro\")\n",
    "print(\"f1:\",F1)"
   ]
  },
  {
   "cell_type": "code",
   "execution_count": 23,
   "metadata": {},
   "outputs": [
    {
     "name": "stdout",
     "output_type": "stream",
     "text": [
      "[0.04548972 0.02610681 0.59637344 0.33203006]\n"
     ]
    }
   ],
   "source": [
    "#输出重要特征\n",
    "print(clf_xg.feature_importances_)#基于信息增益的原理"
   ]
  },
  {
   "cell_type": "markdown",
   "metadata": {},
   "source": [
    "### 线性模型"
   ]
  },
  {
   "cell_type": "markdown",
   "metadata": {},
   "source": [
    "linear_model.LogisticRegression\n",
    "它是一个分类模型，有l1/l2正则化"
   ]
  },
  {
   "cell_type": "code",
   "execution_count": 26,
   "metadata": {},
   "outputs": [],
   "source": [
    "import numpy as np\n",
    "import pandas as pd\n",
    "import matplotlib.pyplot as plt\n",
    "from sklearn.datasets import load_breast_cancer\n",
    "from sklearn.linear_model import LogisticRegression as LR\n",
    "from sklearn.model_selection import train_test_split\n",
    "from sklearn.metrics import accuracy_score\n"
   ]
  },
  {
   "cell_type": "code",
   "execution_count": 29,
   "metadata": {},
   "outputs": [],
   "source": [
    "#load_data\n",
    "cancer = load_breast_cancer()\n",
    "x = cancer.data\n",
    "y = cancer.target\n",
    "xtrain,xtest,ytrain,ytest = train_test_split(x,y,test_size = 0.3)\n"
   ]
  },
  {
   "cell_type": "code",
   "execution_count": 30,
   "metadata": {},
   "outputs": [
    {
     "data": {
      "text/plain": [
       "(569, 30)"
      ]
     },
     "execution_count": 30,
     "metadata": {},
     "output_type": "execute_result"
    }
   ],
   "source": [
    "# data.info\n",
    "x.shape"
   ]
  },
  {
   "cell_type": "code",
   "execution_count": 11,
   "metadata": {},
   "outputs": [
    {
     "name": "stderr",
     "output_type": "stream",
     "text": [
      "D:\\anaconda\\lib\\site-packages\\sklearn\\svm\\_base.py:986: ConvergenceWarning: Liblinear failed to converge, increase the number of iterations.\n",
      "  \"the number of iterations.\", ConvergenceWarning)\n"
     ]
    },
    {
     "data": {
      "text/plain": [
       "LogisticRegression(C=0.5, solver='liblinear')"
      ]
     },
     "execution_count": 11,
     "metadata": {},
     "output_type": "execute_result"
    }
   ],
   "source": [
    "#constract model\n",
    "lr_1 = LR(penalty = \"l1\",C = 0.5,solver = \"liblinear\")#solver指的是求解方法\n",
    "lr_2 = LR(penalty = \"l2\",C = 0.5,solver = \"liblinear\")\n",
    "lr_1.fit(xtrain,ytrain)\n",
    "lr_2.fit(xtrain,ytrain)"
   ]
  },
  {
   "cell_type": "code",
   "execution_count": 12,
   "metadata": {},
   "outputs": [
    {
     "name": "stdout",
     "output_type": "stream",
     "text": [
      "lr_1.coef:\n",
      "[[ 4.4850218   0.         -0.09610301 -0.02477323  0.          0.\n",
      "   0.          0.          0.          0.          0.          0.02978571\n",
      "   0.         -0.05704667  0.          0.          0.          0.\n",
      "   0.          0.          0.02523302 -0.19370887 -0.24394468 -0.00750811\n",
      "   0.          0.         -0.30425356  0.          0.          0.        ]] \n",
      "\n",
      "lr_2.coef:\n",
      "[[ 1.53196138e+00  5.66548763e-02  1.78999775e-01 -1.42191184e-02\n",
      "  -7.82900270e-02 -2.90871464e-01 -3.99051857e-01 -1.81190171e-01\n",
      "  -9.55739709e-02 -1.75478222e-02  4.24467976e-02  7.03070735e-01\n",
      "   2.37485483e-01 -9.52033012e-02 -8.78707244e-03 -3.44626197e-02\n",
      "  -5.21219682e-02 -1.86067355e-02 -1.77471541e-02 -4.15090939e-04\n",
      "   1.12496155e+00 -2.53185079e-01 -2.63875758e-01 -1.38858281e-02\n",
      "  -1.43139359e-01 -8.11397307e-01 -9.57166037e-01 -3.24840986e-01\n",
      "  -2.82036455e-01 -6.84151477e-02]] \n",
      "\n"
     ]
    }
   ],
   "source": [
    "#view different model`s coef\n",
    "print(\"lr_1.coef:\")\n",
    "print(lr_1.coef_,\"\\n\")\n",
    "print(\"lr_2.coef:\")\n",
    "print(lr_2.coef_,\"\\n\")\n",
    "#可以看到L1正则化的系数最终是稀疏的，但是l2不是"
   ]
  },
  {
   "cell_type": "code",
   "execution_count": 15,
   "metadata": {
    "scrolled": true
   },
   "outputs": [
    {
     "name": "stdout",
     "output_type": "stream",
     "text": [
      "predict_y1 of lr_1:\n",
      "[1 1 1 1 1 1 1 1 0 1 0 1 0 1 1 0 0 0 0 0 0 1 1 1 1 1 0 1 1 1 1 0 1 1 1 1 0\n",
      " 1 1 0 0 1 1 0 0 0 1 1 1 0 1 1 1 0 0 0 1 0 0 1 1 0 1 1 0 1 1 0 1 0 1 0 1 0\n",
      " 0 1 0 0 0 1 0 1 1 1 0 0 1 1 0 0 0 0 1 1 1 1 1 0 1 0 0 1 0 0 0 1 1 0 0 1 0\n",
      " 0 1 1 1 1 1 1 0 1 0 0 1 1 1 1 1 1 0 0 1 0 1 1 1 0 0 1 1 1 1 1 1 1 1 1 1 0\n",
      " 0 1 1 1 0 1 0 0 0 0 1 1 1 1 1 1 1 1 1 1 1 0 1] \n",
      "\n",
      "\n",
      "predict_y2 of lr_2:\n",
      "[1 1 1 1 1 1 1 1 0 1 0 1 0 1 1 0 0 0 0 0 0 1 1 1 1 1 0 1 1 1 1 0 1 1 1 1 0\n",
      " 0 1 0 0 1 1 0 0 0 1 1 1 0 1 1 1 0 0 0 1 0 0 1 1 0 1 1 0 1 1 0 1 1 1 0 1 0\n",
      " 0 1 0 0 0 1 0 1 1 1 0 0 1 1 0 0 0 0 1 1 1 1 1 0 1 0 0 1 0 0 0 1 1 0 0 1 0\n",
      " 0 1 1 1 1 1 1 0 1 0 0 1 1 1 1 1 1 0 0 1 0 1 1 1 0 0 1 1 1 1 1 1 1 1 1 1 0\n",
      " 0 1 1 1 0 1 0 0 0 0 1 0 1 1 1 1 1 1 1 1 1 0 1]\n"
     ]
    }
   ],
   "source": [
    "#predict\n",
    "prey1 = lr_1.predict(xtest)\n",
    "prey2 = lr_2.predict(xtest)\n",
    "print(\"predict_y1 of lr_1:\")\n",
    "print(prey1,\"\\n\"*2)\n",
    "print(\"predict_y2 of lr_2:\")\n",
    "print(prey2)\n"
   ]
  },
  {
   "cell_type": "code",
   "execution_count": 20,
   "metadata": {
    "collapsed": true
   },
   "outputs": [
    {
     "name": "stdout",
     "output_type": "stream",
     "text": [
      "[[4.62317459e-03 9.95376825e-01]\n",
      " [1.89896711e-03 9.98101033e-01]\n",
      " [4.74368287e-03 9.95256317e-01]\n",
      " [2.71053272e-03 9.97289467e-01]\n",
      " [3.36013768e-01 6.63986232e-01]\n",
      " [3.96210149e-03 9.96037899e-01]\n",
      " [8.70256365e-03 9.91297436e-01]\n",
      " [1.18350148e-01 8.81649852e-01]\n",
      " [9.29367997e-01 7.06320034e-02]\n",
      " [1.56823374e-01 8.43176626e-01]\n",
      " [9.99943432e-01 5.65684486e-05]\n",
      " [1.50234533e-02 9.84976547e-01]\n",
      " [1.00000000e+00 1.54335768e-18]\n",
      " [1.12758366e-02 9.88724163e-01]\n",
      " [1.75930657e-01 8.24069343e-01]\n",
      " [1.00000000e+00 4.19773286e-20]\n",
      " [9.99982232e-01 1.77679749e-05]\n",
      " [9.99996518e-01 3.48172930e-06]\n",
      " [1.00000000e+00 1.35337962e-10]\n",
      " [9.85404687e-01 1.45953132e-02]\n",
      " [1.00000000e+00 4.32852140e-26]\n",
      " [1.42769174e-01 8.57230826e-01]\n",
      " [5.03242662e-03 9.94967573e-01]\n",
      " [3.82543662e-03 9.96174563e-01]\n",
      " [9.45923948e-04 9.99054076e-01]\n",
      " [3.36146522e-03 9.96638535e-01]\n",
      " [9.90791440e-01 9.20855968e-03]\n",
      " [6.05286218e-02 9.39471378e-01]\n",
      " [2.40480047e-03 9.97595200e-01]\n",
      " [9.71024599e-03 9.90289754e-01]\n",
      " [5.78564347e-03 9.94214357e-01]\n",
      " [9.99826613e-01 1.73387156e-04]\n",
      " [1.29507640e-03 9.98704924e-01]\n",
      " [5.32646210e-03 9.94673538e-01]\n",
      " [1.86707095e-03 9.98132929e-01]\n",
      " [9.06219297e-03 9.90937807e-01]\n",
      " [9.99999954e-01 4.60010397e-08]\n",
      " [5.43697981e-01 4.56302019e-01]\n",
      " [1.09043667e-02 9.89095633e-01]\n",
      " [9.99999054e-01 9.46338811e-07]\n",
      " [9.98344131e-01 1.65586856e-03]\n",
      " [1.11346154e-01 8.88653846e-01]\n",
      " [2.68173072e-03 9.97318269e-01]\n",
      " [9.99999706e-01 2.94323183e-07]\n",
      " [1.00000000e+00 9.32518605e-14]\n",
      " [9.99195741e-01 8.04259318e-04]\n",
      " [3.14873698e-02 9.68512630e-01]\n",
      " [1.51992650e-02 9.84800735e-01]\n",
      " [1.20638125e-03 9.98793619e-01]\n",
      " [6.59112426e-01 3.40887574e-01]\n",
      " [2.22344729e-02 9.77765527e-01]\n",
      " [1.92786505e-04 9.99807213e-01]\n",
      " [1.36010141e-03 9.98639899e-01]\n",
      " [9.99991979e-01 8.02119464e-06]\n",
      " [7.16822223e-01 2.83177777e-01]\n",
      " [9.84424848e-01 1.55751520e-02]\n",
      " [3.85162153e-02 9.61483785e-01]\n",
      " [9.98454140e-01 1.54585992e-03]\n",
      " [9.96640149e-01 3.35985111e-03]\n",
      " [4.92063611e-02 9.50793639e-01]\n",
      " [2.46573864e-02 9.75342614e-01]\n",
      " [9.99991322e-01 8.67787908e-06]\n",
      " [1.24095453e-03 9.98759045e-01]\n",
      " [5.70369231e-03 9.94296308e-01]\n",
      " [9.99999972e-01 2.77990259e-08]\n",
      " [1.25529952e-02 9.87447005e-01]\n",
      " [4.21069950e-04 9.99578930e-01]\n",
      " [9.99999999e-01 8.19847118e-10]\n",
      " [8.10331864e-04 9.99189668e-01]\n",
      " [4.89191568e-01 5.10808432e-01]\n",
      " [1.02332304e-02 9.89766770e-01]\n",
      " [9.99867133e-01 1.32866693e-04]\n",
      " [1.95469919e-03 9.98045301e-01]\n",
      " [9.94814495e-01 5.18550483e-03]\n",
      " [9.99997707e-01 2.29250595e-06]\n",
      " [7.20317649e-03 9.92796824e-01]\n",
      " [1.00000000e+00 2.59765837e-15]\n",
      " [9.98980932e-01 1.01906808e-03]\n",
      " [9.99957874e-01 4.21257119e-05]\n",
      " [2.61085658e-02 9.73891434e-01]\n",
      " [9.99999663e-01 3.36817329e-07]\n",
      " [1.28352722e-02 9.87164728e-01]\n",
      " [1.18874196e-02 9.88112580e-01]\n",
      " [6.95683393e-02 9.30431661e-01]\n",
      " [9.70251880e-01 2.97481204e-02]\n",
      " [9.25945183e-01 7.40548168e-02]\n",
      " [4.55995151e-02 9.54400485e-01]\n",
      " [2.41181527e-02 9.75881847e-01]\n",
      " [9.99999962e-01 3.78313980e-08]\n",
      " [7.87214137e-01 2.12785863e-01]\n",
      " [1.00000000e+00 8.28258770e-19]\n",
      " [9.99999999e-01 5.81995742e-10]\n",
      " [2.22880725e-02 9.77711927e-01]\n",
      " [1.81805290e-03 9.98181947e-01]\n",
      " [3.49318686e-02 9.65068131e-01]\n",
      " [2.57425639e-03 9.97425744e-01]\n",
      " [6.16262093e-02 9.38373791e-01]\n",
      " [7.45456402e-01 2.54543598e-01]\n",
      " [1.55203068e-01 8.44796932e-01]\n",
      " [8.59493358e-01 1.40506642e-01]\n",
      " [7.83219228e-01 2.16780772e-01]\n",
      " [1.34372340e-04 9.99865628e-01]\n",
      " [9.99726376e-01 2.73624411e-04]\n",
      " [9.66151226e-01 3.38487736e-02]\n",
      " [5.61044026e-01 4.38955974e-01]\n",
      " [5.42946257e-03 9.94570537e-01]\n",
      " [1.00110557e-02 9.89988944e-01]\n",
      " [9.99999997e-01 3.15025774e-09]\n",
      " [5.05025076e-01 4.94974924e-01]\n",
      " [4.17061210e-02 9.58293879e-01]\n",
      " [9.55909200e-01 4.40907997e-02]\n",
      " [1.00000000e+00 4.15788101e-11]\n",
      " [6.51336555e-02 9.34866344e-01]\n",
      " [2.06893289e-02 9.79310671e-01]\n",
      " [1.13002492e-02 9.88699751e-01]\n",
      " [8.18816926e-03 9.91811831e-01]\n",
      " [2.28538112e-03 9.97714619e-01]\n",
      " [5.50727801e-02 9.44927220e-01]\n",
      " [9.99999878e-01 1.22417975e-07]\n",
      " [1.06403509e-02 9.89359649e-01]\n",
      " [9.99924051e-01 7.59491534e-05]\n",
      " [9.50814458e-01 4.91855419e-02]\n",
      " [9.15554344e-02 9.08444566e-01]\n",
      " [1.62690054e-01 8.37309946e-01]\n",
      " [1.19985398e-02 9.88001460e-01]\n",
      " [2.57426370e-04 9.99742574e-01]\n",
      " [3.20450314e-02 9.67954969e-01]\n",
      " [1.27594126e-01 8.72405874e-01]\n",
      " [9.51594504e-01 4.84054957e-02]\n",
      " [1.00000000e+00 1.81364809e-18]\n",
      " [5.35082507e-03 9.94649175e-01]\n",
      " [9.59261393e-01 4.07386067e-02]\n",
      " [1.24004751e-01 8.75995249e-01]\n",
      " [4.85172054e-03 9.95148279e-01]\n",
      " [8.09918784e-03 9.91900812e-01]\n",
      " [9.99944933e-01 5.50671606e-05]\n",
      " [1.00000000e+00 1.00175275e-11]\n",
      " [1.05793638e-04 9.99894206e-01]\n",
      " [8.85137757e-02 9.11486224e-01]\n",
      " [1.23849822e-02 9.87615018e-01]\n",
      " [4.75317362e-04 9.99524683e-01]\n",
      " [6.16164313e-02 9.38383569e-01]\n",
      " [1.19192146e-03 9.98808079e-01]\n",
      " [6.45305454e-03 9.93546945e-01]\n",
      " [1.07917178e-03 9.98920828e-01]\n",
      " [1.25487166e-02 9.87451283e-01]\n",
      " [1.85932979e-02 9.81406702e-01]\n",
      " [9.99791554e-01 2.08445666e-04]\n",
      " [9.98801907e-01 1.19809292e-03]\n",
      " [4.39359080e-01 5.60640920e-01]\n",
      " [6.91797237e-03 9.93082028e-01]\n",
      " [2.79469393e-01 7.20530607e-01]\n",
      " [9.99975541e-01 2.44589549e-05]\n",
      " [2.20630209e-02 9.77936979e-01]\n",
      " [9.99999548e-01 4.51843814e-07]\n",
      " [6.58855468e-01 3.41144532e-01]\n",
      " [9.99831028e-01 1.68972068e-04]\n",
      " [9.99229778e-01 7.70221740e-04]\n",
      " [2.68271135e-03 9.97317289e-01]\n",
      " [5.17533549e-01 4.82466451e-01]\n",
      " [6.56990069e-03 9.93430099e-01]\n",
      " [1.01042276e-01 8.98957724e-01]\n",
      " [5.03376402e-02 9.49662360e-01]\n",
      " [1.15894384e-03 9.98841056e-01]\n",
      " [6.05006551e-03 9.93949934e-01]\n",
      " [6.22816349e-03 9.93771837e-01]\n",
      " [6.65485155e-03 9.93345148e-01]\n",
      " [1.52846600e-02 9.84715340e-01]\n",
      " [1.53674408e-01 8.46325592e-01]\n",
      " [9.99999485e-01 5.15157258e-07]\n",
      " [2.70304983e-01 7.29695017e-01]]\n"
     ]
    }
   ],
   "source": [
    "#view predict_prob\n",
    "preba_1 = lr_1.predict_proba(xtest)\n",
    "preba_2 = lr_2.predict_proba(xtest)\n",
    "print(preba_2)#左边一列表示预测为负例的概率右边一列为预测为正例的概率"
   ]
  },
  {
   "cell_type": "code",
   "execution_count": 19,
   "metadata": {},
   "outputs": [
    {
     "name": "stdout",
     "output_type": "stream",
     "text": [
      "acc_1:\n",
      "0.9415204678362573 \n",
      "\n",
      "\n",
      "acc_2:\n",
      "0.9590643274853801\n"
     ]
    }
   ],
   "source": [
    "#value model\n",
    "#accuracy one times\n",
    "acc_1 = accuracy_score(ytest,prey1)\n",
    "acc_2 = accuracy_score(ytest,prey2)\n",
    "print(\"acc_1:\")\n",
    "print(acc_1,\"\\n\"*2)\n",
    "print(\"acc_2:\")\n",
    "print(acc_2)"
   ]
  },
  {
   "cell_type": "code",
   "execution_count": 24,
   "metadata": {},
   "outputs": [
    {
     "name": "stdout",
     "output_type": "stream",
     "text": [
      "AUC of LR_1:\n",
      "0.9893917963224893 \n",
      "\n",
      "\n",
      "AUC of LR_2:\n",
      "0.9908062234794908\n"
     ]
    }
   ],
   "source": [
    "#AUC_value \n",
    "from sklearn.metrics import roc_auc_score\n",
    "auc_1 = roc_auc_score(ytest,preba_1[:,1])\n",
    "auc_2 = roc_auc_score(ytest,preba_2[:,1])\n",
    "print(\"AUC of LR_1:\")\n",
    "print(auc_1,\"\\n\"*2)\n",
    "print(\"AUC of LR_2:\")#如果是多分类那么要设置multi_class\n",
    "print(auc_2)\n"
   ]
  },
  {
   "cell_type": "code",
   "execution_count": 35,
   "metadata": {
    "collapsed": true
   },
   "outputs": [
    {
     "name": "stderr",
     "output_type": "stream",
     "text": [
      "D:\\anaconda\\lib\\site-packages\\sklearn\\svm\\_base.py:986: ConvergenceWarning: Liblinear failed to converge, increase the number of iterations.\n",
      "  \"the number of iterations.\", ConvergenceWarning)\n",
      "D:\\anaconda\\lib\\site-packages\\sklearn\\svm\\_base.py:986: ConvergenceWarning: Liblinear failed to converge, increase the number of iterations.\n",
      "  \"the number of iterations.\", ConvergenceWarning)\n",
      "D:\\anaconda\\lib\\site-packages\\sklearn\\svm\\_base.py:986: ConvergenceWarning: Liblinear failed to converge, increase the number of iterations.\n",
      "  \"the number of iterations.\", ConvergenceWarning)\n",
      "D:\\anaconda\\lib\\site-packages\\sklearn\\svm\\_base.py:986: ConvergenceWarning: Liblinear failed to converge, increase the number of iterations.\n",
      "  \"the number of iterations.\", ConvergenceWarning)\n",
      "D:\\anaconda\\lib\\site-packages\\sklearn\\svm\\_base.py:986: ConvergenceWarning: Liblinear failed to converge, increase the number of iterations.\n",
      "  \"the number of iterations.\", ConvergenceWarning)\n",
      "D:\\anaconda\\lib\\site-packages\\sklearn\\svm\\_base.py:986: ConvergenceWarning: Liblinear failed to converge, increase the number of iterations.\n",
      "  \"the number of iterations.\", ConvergenceWarning)\n",
      "D:\\anaconda\\lib\\site-packages\\sklearn\\svm\\_base.py:986: ConvergenceWarning: Liblinear failed to converge, increase the number of iterations.\n",
      "  \"the number of iterations.\", ConvergenceWarning)\n",
      "D:\\anaconda\\lib\\site-packages\\sklearn\\svm\\_base.py:986: ConvergenceWarning: Liblinear failed to converge, increase the number of iterations.\n",
      "  \"the number of iterations.\", ConvergenceWarning)\n",
      "D:\\anaconda\\lib\\site-packages\\sklearn\\svm\\_base.py:986: ConvergenceWarning: Liblinear failed to converge, increase the number of iterations.\n",
      "  \"the number of iterations.\", ConvergenceWarning)\n",
      "D:\\anaconda\\lib\\site-packages\\sklearn\\svm\\_base.py:986: ConvergenceWarning: Liblinear failed to converge, increase the number of iterations.\n",
      "  \"the number of iterations.\", ConvergenceWarning)\n",
      "D:\\anaconda\\lib\\site-packages\\sklearn\\svm\\_base.py:986: ConvergenceWarning: Liblinear failed to converge, increase the number of iterations.\n",
      "  \"the number of iterations.\", ConvergenceWarning)\n",
      "D:\\anaconda\\lib\\site-packages\\sklearn\\svm\\_base.py:986: ConvergenceWarning: Liblinear failed to converge, increase the number of iterations.\n",
      "  \"the number of iterations.\", ConvergenceWarning)\n",
      "D:\\anaconda\\lib\\site-packages\\sklearn\\svm\\_base.py:986: ConvergenceWarning: Liblinear failed to converge, increase the number of iterations.\n",
      "  \"the number of iterations.\", ConvergenceWarning)\n",
      "D:\\anaconda\\lib\\site-packages\\sklearn\\svm\\_base.py:986: ConvergenceWarning: Liblinear failed to converge, increase the number of iterations.\n",
      "  \"the number of iterations.\", ConvergenceWarning)\n",
      "D:\\anaconda\\lib\\site-packages\\sklearn\\svm\\_base.py:986: ConvergenceWarning: Liblinear failed to converge, increase the number of iterations.\n",
      "  \"the number of iterations.\", ConvergenceWarning)\n",
      "D:\\anaconda\\lib\\site-packages\\sklearn\\svm\\_base.py:986: ConvergenceWarning: Liblinear failed to converge, increase the number of iterations.\n",
      "  \"the number of iterations.\", ConvergenceWarning)\n"
     ]
    }
   ],
   "source": [
    "####调参#########\n",
    "#查看不同学习率的模型精度的变化\n",
    "from sklearn.metrics import accuracy_score\n",
    "score_1 = []\n",
    "score_2 = []\n",
    "xtrain,xtest,ytrain,ytest = train_test_split(x,y,test_size=0.3,random_state = 2)\n",
    "for i in np.linspace(0.01,1,30):\n",
    "    lr_1 = LR(penalty = \"l1\",solver = \"liblinear\",C= i)\n",
    "    lr_2 = LR(penalty =\"l2\",solver = \"liblinear\",C = i)\n",
    "    lr_1.fit(xtrain,ytrain)\n",
    "    lr_2.fit(xtrain,ytrain)\n",
    "    pre_1 = lr_1.predict(xtest)\n",
    "    pre_2 = lr_2.predict(xtest)\n",
    "    acc_1 = accuracy_score(ytest,pre_1)\n",
    "    score_1.append(acc_1)\n",
    "    acc_2 = accuracy_score(ytest,pre_2)\n",
    "    score_2.append(acc_2)\n"
   ]
  },
  {
   "cell_type": "code",
   "execution_count": 49,
   "metadata": {},
   "outputs": [
    {
     "data": {
      "image/png": "[encoded data removed]",
      "text/plain": [
       "<Figure size 432x288 with 1 Axes>"
      ]
     },
     "metadata": {
      "needs_background": "light"
     },
     "output_type": "display_data"
    }
   ],
   "source": [
    "import matplotlib.pyplot as plt\n",
    "#显示汉字\n",
    "x_axis_data = np.arange(1,31)\n",
    "plt.rcParams[\"font.sans-serif\"] = [\"SimHei\"]\n",
    "plt.title(\"不同学习率的模型精度\")\n",
    "plt.plot(x_axis_data,score_1,\"b*--\",alpha = 0.5,linewidth = 1,label = \"acc_1\")\n",
    "plt.plot(x_axis_data,score_2,\"rs--\",alpha = 0.5,linewidth = 1,label = \"acc_2\")\n",
    "#设置数据标签位置和大小\n",
    "#for a,b in zip(x_axis_data,score_1):\n",
    "   # plt.text(a,b,str(b),ha = \"center\",va = \"bottom\",fontsize = 8)\n",
    "#for a,b1 in zip(x_axis_data,score_2):\n",
    "   # plt.text(a,b1,str(b1),ha = \"center\",va = \"bottom\",fontsize = 8)\n",
    "plt.legend()\n",
    "plt.xlabel(\"learning_rate\")\n",
    "plt.ylabel(\"accuracy\")\n",
    "plt.ylim(0.9,1)\n",
    "plt.show()"
   ]
  },
  {
   "cell_type": "code",
   "execution_count": 43,
   "metadata": {
    "scrolled": true
   },
   "outputs": [
    {
     "name": "stderr",
     "output_type": "stream",
     "text": [
      "D:\\anaconda\\lib\\site-packages\\sklearn\\svm\\_base.py:986: ConvergenceWarning: Liblinear failed to converge, increase the number of iterations.\n",
      "  \"the number of iterations.\", ConvergenceWarning)\n",
      "D:\\anaconda\\lib\\site-packages\\sklearn\\svm\\_base.py:986: ConvergenceWarning: Liblinear failed to converge, increase the number of iterations.\n",
      "  \"the number of iterations.\", ConvergenceWarning)\n",
      "D:\\anaconda\\lib\\site-packages\\sklearn\\svm\\_base.py:986: ConvergenceWarning: Liblinear failed to converge, increase the number of iterations.\n",
      "  \"the number of iterations.\", ConvergenceWarning)\n",
      "D:\\anaconda\\lib\\site-packages\\sklearn\\svm\\_base.py:986: ConvergenceWarning: Liblinear failed to converge, increase the number of iterations.\n",
      "  \"the number of iterations.\", ConvergenceWarning)\n"
     ]
    }
   ],
   "source": [
    "#10次留出法\n",
    "Score_1 = []\n",
    "Score_2 = []\n",
    "for i in np.arange(10):\n",
    "    xtrain,xtest,ytrain,ytest = train_test_split(x,y,test_size =0.3,random_state = i)\n",
    "    lr_1 = LR(penalty = \"l1\",solver = \"liblinear\",C=0.5)\n",
    "    lr_2 = LR(penalty = \"l2\",solver = \"liblinear\",C=0.5)\n",
    "    lr_1.fit(xtrain,ytrain)\n",
    "    lr_2.fit(xtrain,ytrain)\n",
    "    pre_1 = lr_1.predict(xtest)\n",
    "    pre_2 = lr_2.predict(xtest)\n",
    "    acc_1 = accuracy_score(ytest,pre_1)\n",
    "    acc_2 = accuracy_score(ytest,pre_2)\n",
    "    Score_1.append(acc_1)\n",
    "    Score_2.append(acc_2)"
   ]
  },
  {
   "cell_type": "code",
   "execution_count": 47,
   "metadata": {},
   "outputs": [
    {
     "name": "stdout",
     "output_type": "stream",
     "text": [
      "0.9485380116959063 \n",
      "\n",
      " 0.9461988304093568\n"
     ]
    }
   ],
   "source": [
    "# 取平均值\n",
    "print(np.array(Score_1).mean(),\"\\n\"*2,np.array(Score_2).mean())\n",
    "\n"
   ]
  },
  {
   "cell_type": "code",
   "execution_count": 51,
   "metadata": {},
   "outputs": [
    {
     "data": {
      "image/png": "[encoded data removed]",
      "text/plain": [
       "<Figure size 432x288 with 1 Axes>"
      ]
     },
     "metadata": {
      "needs_background": "light"
     },
     "output_type": "display_data"
    }
   ],
   "source": [
    "X_axis_data = np.arange(1,11)\n",
    "plt.rcParams[\"font.sans-serif\"] = [\"SimHei\"]\n",
    "plt.title(\"不同数据的模型精度\")\n",
    "plt.plot(X_axis_data,Score_1,\"b*--\",alpha = 0.5,linewidth = 1,label = \"acc_1\")\n",
    "plt.plot(X_axis_data,Score_2,\"rs--\",alpha = 0.5,linewidth = 1,label = \"acc_2\")\n",
    "#设置数据标签位置和大小\n",
    "#for a,b in zip(x_axis_data,score_1):\n",
    "   # plt.text(a,b,str(b),ha = \"center\",va = \"bottom\",fontsize = 8)\n",
    "#for a,b1 in zip(x_axis_data,score_2):\n",
    "   # plt.text(a,b1,str(b1),ha = \"center\",va = \"bottom\",fontsize = 8)\n",
    "plt.legend()\n",
    "plt.xlabel(\"learning_rate\")\n",
    "plt.ylabel(\"accuracy\")\n",
    "plt.ylim(0.9,1)\n",
    "plt.show()"
   ]
  },
  {
   "cell_type": "markdown",
   "metadata": {},
   "source": [
    "2.线性模型感知机\n",
    "linear_model.Perceptron( )https://blog.csdn.net/zero33325/article/details/108074512\n",
    "原理和SVM相似"
   ]
  },
  {
   "cell_type": "code",
   "execution_count": 56,
   "metadata": {},
   "outputs": [],
   "source": [
    "from sklearn.datasets import load_iris\n",
    "from sklearn.linear_model import Perceptron\n",
    "from sklearn.model_selection import train_test_split,cross_val_score"
   ]
  },
  {
   "cell_type": "code",
   "execution_count": 57,
   "metadata": {},
   "outputs": [
    {
     "name": "stdout",
     "output_type": "stream",
     "text": [
      "********** 线性感知机精度： **********\n",
      "0.7066666666666668\n"
     ]
    }
   ],
   "source": [
    "iris = load_iris()\n",
    "x = iris.data\n",
    "y = iris.target\n",
    "xtrain,xtest,ytrain,ytest = train_test_split(x,y,test_size=0.3,random_state = 3)\n",
    "clf_P =Perceptron(max_iter = 1000,shuffle = True)\n",
    "acc = cross_val_score(clf_P,x,y,cv=10,scoring=\"accuracy\")\n",
    "print(\"*\"*10,\"线性感知机精度：\",\"*\"*10)\n",
    "print(np.mean(acc))"
   ]
  },
  {
   "cell_type": "markdown",
   "metadata": {},
   "source": [
    "3.具备随机梯度下降算法优化损失函数的模型\n",
    "既可以是SVM也可以是逻辑回归"
   ]
  },
  {
   "cell_type": "code",
   "execution_count": 58,
   "metadata": {},
   "outputs": [
    {
     "name": "stdout",
     "output_type": "stream",
     "text": [
      "************clf_1:************\n",
      "0.7733333333333333\n",
      "************clf_2:************\n",
      "0.7933333333333332\n",
      "************clf_3:************\n",
      "0.82\n",
      "************clf_4:************\n",
      "0.7933333333333332\n"
     ]
    }
   ],
   "source": [
    "from sklearn.linear_model import SGDClassifier\n",
    "clf_1 = SGDClassifier(loss = \"hinge\",penalty = \"l1\")\n",
    "clf_2 = SGDClassifier(loss=\"hinge\",penalty = \"l2\")\n",
    "clf_3 = SGDClassifier(loss = \"log\",penalty = \"l1\")\n",
    "clf_4 = SGDClassifier(loss = \"log\",penalty = \"l2\")\n",
    "acc_1 = cross_val_score(clf_1,x,y,scoring = \"accuracy\")\n",
    "acc_2 = cross_val_score(clf_2,x,y,scoring = \"accuracy\")\n",
    "acc_3 = cross_val_score(clf_3,x,y,scoring = \"accuracy\")\n",
    "acc_4 = cross_val_score(clf_4,x,y,scoring = \"accuracy\")\n",
    "print(np.char.center(\"clf_1:\",30,fillchar = \"*\"))\n",
    "print(np.mean(acc_1))\n",
    "print(np.char.center(\"clf_2:\",30,fillchar = \"*\"))\n",
    "print(np.mean(acc_2))\n",
    "print(np.char.center(\"clf_3:\",30,fillchar = \"*\"))\n",
    "print(np.mean(acc_3))\n",
    "print(np.char.center(\"clf_4:\",30,fillchar = \"*\"))\n",
    "print(np.mean(acc_4))"
   ]
  },
  {
   "cell_type": "markdown",
   "metadata": {},
   "source": [
    "4.岭回归或者岭分类\n",
    "将L2作为正则化项的最小二乘回归\n",
    "Ridge:回归"
   ]
  },
  {
   "cell_type": "code",
   "execution_count": 61,
   "metadata": {},
   "outputs": [],
   "source": [
    "from sklearn.linear_model import Ridge,RidgeCV,RidgeClassifier,RidgeClassifierCV"
   ]
  },
  {
   "cell_type": "code",
   "execution_count": 80,
   "metadata": {},
   "outputs": [],
   "source": [
    "import numpy as np\n",
    "import pandas as pd\n",
    "from sklearn.datasets import fetch_california_housing as fch"
   ]
  },
  {
   "cell_type": "code",
   "execution_count": 81,
   "metadata": {},
   "outputs": [
    {
     "name": "stdout",
     "output_type": "stream",
     "text": [
      "0.5971400590759659\n"
     ]
    }
   ],
   "source": [
    "#回归（顺便把回归提前学了）\n",
    "Data = fch()\n",
    "x = Data.data\n",
    "y = Data.target\n",
    "xtrain,xtest,ytrain,ytest = train_test_split(x,y,test_size=0.3,random_state = 1)\n",
    "reg = Ridge().fit(xtrain,ytrain)\n",
    "r2 = reg.score(xtest,ytest)#在测试集上的R方\n",
    "print(r2)"
   ]
  },
  {
   "cell_type": "code",
   "execution_count": 85,
   "metadata": {},
   "outputs": [
    {
     "name": "stdout",
     "output_type": "stream",
     "text": [
      "[ 4.40906987e-01  9.69040615e-03 -1.04532987e-01  6.20761622e-01\n",
      " -5.60466338e-06 -3.28763597e-03 -4.23155601e-01 -4.37853206e-01]\n"
     ]
    }
   ],
   "source": [
    "print(reg.coef_)"
   ]
  },
  {
   "cell_type": "markdown",
   "metadata": {},
   "source": [
    "#RidgeCV"
   ]
  },
  {
   "cell_type": "code",
   "execution_count": 88,
   "metadata": {},
   "outputs": [
    {
     "name": "stdout",
     "output_type": "stream",
     "text": [
      "0.6062301017655591\n"
     ]
    }
   ],
   "source": [
    "clf_RCV = RidgeCV().fit(x,y)\n",
    "print(clf_RCV.score(x,y))"
   ]
  },
  {
   "cell_type": "markdown",
   "metadata": {},
   "source": [
    "#RidgeClassifier"
   ]
  },
  {
   "cell_type": "code",
   "execution_count": 6,
   "metadata": {},
   "outputs": [],
   "source": [
    "from sklearn.linear_model import RidgeClassifier\n",
    "from sklearn.model_selection import train_test_split\n",
    "from sklearn.metrics import accuracy_score,f1_score\n",
    "from sklearn.metrics import roc_auc_score\n",
    "from sklearn.datasets import load_breast_cancer\n"
   ]
  },
  {
   "cell_type": "code",
   "execution_count": 7,
   "metadata": {},
   "outputs": [],
   "source": [
    "#load data\n",
    "cancer = load_breast_cancer()\n",
    "x = cancer.data\n",
    "y = cancer.target\n",
    "xtrain,xtest,ytrain,ytest = train_test_split(x,y,test_size = 0.3,random_state = 4)"
   ]
  },
  {
   "cell_type": "code",
   "execution_count": 13,
   "metadata": {},
   "outputs": [],
   "source": [
    "#train model\n",
    "clf_Ridge = RidgeClassifier(alpha = 0.5).fit(xtrain,ytrain)"
   ]
  },
  {
   "cell_type": "code",
   "execution_count": 15,
   "metadata": {},
   "outputs": [],
   "source": [
    "# value model\n",
    "y_pre = clf_Ridge.predict(xtest)\n",
    "acc = accuracy_score(ytest,y_pre)"
   ]
  },
  {
   "cell_type": "code",
   "execution_count": 25,
   "metadata": {},
   "outputs": [],
   "source": [
    "y_proba = clf_Ridge._predict_proba_lr(xtest)\n",
    "auc_Ridge = roc_auc_score(ytest,y_proba[:,1])"
   ]
  },
  {
   "cell_type": "code",
   "execution_count": 26,
   "metadata": {},
   "outputs": [],
   "source": [
    "F1 = f1_score(ytest,y_pre)"
   ]
  },
  {
   "cell_type": "code",
   "execution_count": 27,
   "metadata": {},
   "outputs": [
    {
     "name": "stdout",
     "output_type": "stream",
     "text": [
      "************模型的精度：************\n",
      "0.9766081871345029 \n",
      "\n",
      "*************F1:**************\n",
      "0.9831932773109243 \n",
      "\n",
      "*************auc:*************\n",
      "0.9973092750870529\n"
     ]
    }
   ],
   "source": [
    "import numpy as np\n",
    "print(np.char.center(\"模型的精度：\",30,fillchar = \"*\"))\n",
    "print(acc,\"\\n\")\n",
    "print(np.char.center(\"F1:\",30,fillchar = \"*\"))\n",
    "print(F1,\"\\n\")\n",
    "print(np.char.center(\"auc:\",30,fillchar = \"*\"))\n",
    "print(auc_Ridge)\n"
   ]
  },
  {
   "cell_type": "code",
   "execution_count": 31,
   "metadata": {},
   "outputs": [
    {
     "name": "stdout",
     "output_type": "stream",
     "text": [
      "0.9766081871345029\n"
     ]
    }
   ],
   "source": [
    "print(clf_Ridge.score(xtest,ytest))#可返回精度"
   ]
  },
  {
   "cell_type": "code",
   "execution_count": 33,
   "metadata": {},
   "outputs": [
    {
     "name": "stdout",
     "output_type": "stream",
     "text": [
      "0.961335676625659\n"
     ]
    }
   ],
   "source": [
    "#RidgeClassfierCV\n",
    "from sklearn.linear_model import RidgeClassifierCV\n",
    "clf_RCCV = RidgeClassifierCV().fit(x,y)\n",
    "print(clf_RCCV.score(x,y))"
   ]
  },
  {
   "cell_type": "markdown",
   "metadata": {},
   "source": [
    "5.LASSO\n",
    "将L1作为正则化的最小二乘"
   ]
  },
  {
   "cell_type": "code",
   "execution_count": 38,
   "metadata": {},
   "outputs": [],
   "source": [
    "from sklearn.linear_model import Lasso,LassoCV\n",
    "clf_ls = Lasso().fit(xtrain,ytrain)\n",
    "clf_lscv = LassoCV(cv=10).fit(x,y)\n"
   ]
  },
  {
   "cell_type": "code",
   "execution_count": 39,
   "metadata": {},
   "outputs": [
    {
     "data": {
      "text/plain": [
       "array([-0.        , -0.        , -0.        , -0.00011163, -0.        ,\n",
       "       -0.        , -0.        , -0.        , -0.        , -0.        ,\n",
       "       -0.        , -0.        , -0.        ,  0.0008135 , -0.        ,\n",
       "       -0.        , -0.        , -0.        , -0.        , -0.        ,\n",
       "       -0.        , -0.        , -0.00168697, -0.00054226, -0.        ,\n",
       "       -0.        , -0.        , -0.        , -0.        , -0.        ])"
      ]
     },
     "execution_count": 39,
     "metadata": {},
     "output_type": "execute_result"
    }
   ],
   "source": [
    "clf_ls.coef_"
   ]
  },
  {
   "cell_type": "code",
   "execution_count": 41,
   "metadata": {},
   "outputs": [
    {
     "data": {
      "text/plain": [
       "4"
      ]
     },
     "execution_count": 41,
     "metadata": {},
     "output_type": "execute_result"
    }
   ],
   "source": [
    "np.sum(clf_ls.coef_!=0)"
   ]
  },
  {
   "cell_type": "code",
   "execution_count": 40,
   "metadata": {},
   "outputs": [
    {
     "data": {
      "text/plain": [
       "array([-0.        , -0.        , -0.        ,  0.00027081, -0.        ,\n",
       "       -0.        , -0.        , -0.        , -0.        , -0.        ,\n",
       "       -0.        , -0.        , -0.        , -0.        , -0.        ,\n",
       "       -0.        , -0.        , -0.        , -0.        , -0.        ,\n",
       "       -0.        , -0.0083509 , -0.01747986,  0.00025479, -0.        ,\n",
       "       -0.        , -0.        , -0.        , -0.        , -0.        ])"
      ]
     },
     "execution_count": 40,
     "metadata": {},
     "output_type": "execute_result"
    }
   ],
   "source": [
    "clf_lscv.coef_"
   ]
  },
  {
   "cell_type": "code",
   "execution_count": 43,
   "metadata": {},
   "outputs": [
    {
     "data": {
      "text/plain": [
       "4"
      ]
     },
     "execution_count": 43,
     "metadata": {},
     "output_type": "execute_result"
    }
   ],
   "source": [
    "np.sum(clf_lscv.coef_!=0)"
   ]
  },
  {
   "cell_type": "code",
   "execution_count": 56,
   "metadata": {},
   "outputs": [],
   "source": [
    "y_prels = clf_ls.predict(xtest)\n",
    "r2 = clf_ls.score(xtest,ytest)\n",
    "r2_lscv = clf_lscv.score(xtest,ytest)"
   ]
  },
  {
   "cell_type": "code",
   "execution_count": 57,
   "metadata": {},
   "outputs": [
    {
     "name": "stdout",
     "output_type": "stream",
     "text": [
      "0.4812414174329245 0.6259201810738118\n"
     ]
    }
   ],
   "source": [
    "print(r2,r2_lscv)"
   ]
  },
  {
   "cell_type": "markdown",
   "metadata": {},
   "source": [
    "### 支持向量机"
   ]
  },
  {
   "cell_type": "code",
   "execution_count": 58,
   "metadata": {},
   "outputs": [
    {
     "data": {
      "text/plain": [
       "['LinearSVC',\n",
       " 'LinearSVR',\n",
       " 'NuSVC',\n",
       " 'NuSVR',\n",
       " 'OneClassSVM',\n",
       " 'SVC',\n",
       " 'SVR',\n",
       " '__all__',\n",
       " '__builtins__',\n",
       " '__cached__',\n",
       " '__doc__',\n",
       " '__file__',\n",
       " '__loader__',\n",
       " '__name__',\n",
       " '__package__',\n",
       " '__path__',\n",
       " '__spec__',\n",
       " '_base',\n",
       " '_bounds',\n",
       " '_classes',\n",
       " '_liblinear',\n",
       " '_libsvm',\n",
       " '_libsvm_sparse',\n",
       " 'l1_min_c']"
      ]
     },
     "execution_count": 58,
     "metadata": {},
     "output_type": "execute_result"
    }
   ],
   "source": [
    "#查看有多少种svm\n",
    "import sklearn.svm\n",
    "dir(sklearn.svm)"
   ]
  },
  {
   "cell_type": "markdown",
   "metadata": {},
   "source": [
    "#SVC"
   ]
  },
  {
   "cell_type": "code",
   "execution_count": 60,
   "metadata": {},
   "outputs": [],
   "source": [
    "from sklearn.svm import SVC\n",
    "from sklearn.datasets import load_iris\n",
    "from sklearn.model_selection import cross_val_score,train_test_split\n",
    "from sklearn.metrics import accuracy_score,f1_score,precision_score,recall_score,roc_auc_score"
   ]
  },
  {
   "cell_type": "code",
   "execution_count": 61,
   "metadata": {},
   "outputs": [],
   "source": [
    "#data load\n",
    "iris = load_iris()\n",
    "x,y = iris.data,iris.target\n",
    "xtrain,xtest,ytrain,ytest = train_test_split(x,y,test_size = 0.3,random_state = 100)"
   ]
  },
  {
   "cell_type": "code",
   "execution_count": 64,
   "metadata": {},
   "outputs": [],
   "source": [
    "#model train\n",
    "clf_svc = SVC(C=1,kernel=\"linear\")#kernel = \"poly\":多项式核函数,\"linear\"线性核函数,\"rbf\"高斯核函数,'sigmoid',\"precomputed\"/degree(of poly)/tol:停止训练的误差\n",
    "clf_svc.fit(xtrain,ytrain)\n",
    "y_pre = clf_svc.predict(xtest)\n",
    "acc = accuracy_score(ytest,y_pre)"
   ]
  },
  {
   "cell_type": "code",
   "execution_count": 65,
   "metadata": {},
   "outputs": [
    {
     "data": {
      "text/plain": [
       "1.0"
      ]
     },
     "execution_count": 65,
     "metadata": {},
     "output_type": "execute_result"
    }
   ],
   "source": [
    "acc"
   ]
  },
  {
   "cell_type": "code",
   "execution_count": 67,
   "metadata": {},
   "outputs": [],
   "source": [
    "#调参\n",
    "#固定C变化kernel,采用十折交叉验证\n",
    "clf_svc_linear = SVC(C=1,kernel = \"linear\").fit(x,y)\n",
    "acc_linear = cross_val_score(clf_svc_linear,x,y,cv=10)\n",
    "clf_svc_poly = SVC(C=1,kernel = \"poly\").fit(x,y)\n",
    "acc_poly = cross_val_score(clf_svc_poly,x,y,cv=10)\n",
    "clf_svc_rbf = SVC(C=1,kernel = \"rbf\").fit(x,y)\n",
    "acc_svc_rbf = cross_val_score(clf_svc_rbf,x,y,cv=10)\n",
    "clf_svc_sigmoid = SVC(C=1,kernel = \"sigmoid\").fit(x,y)\n",
    "acc_svc_sigmoid = cross_val_score(clf_svc_sigmoid,x,y,cv=10)\n"
   ]
  },
  {
   "cell_type": "code",
   "execution_count": 69,
   "metadata": {},
   "outputs": [],
   "source": [
    "acc_dict = {}\n",
    "acc_dict[\"linear\"]= acc_linear.mean()\n",
    "acc_dict[\"poly\"] = acc_poly.mean()\n",
    "acc_dict[\"rbf\"] = acc_svc_rbf.mean()\n",
    "acc_dict[\"sigmoid\"] = acc_svc_sigmoid.mean()"
   ]
  },
  {
   "cell_type": "code",
   "execution_count": 70,
   "metadata": {},
   "outputs": [
    {
     "name": "stdout",
     "output_type": "stream",
     "text": [
      "different accuracy of model in\n",
      "{'linear': 0.9733333333333334, 'poly': 0.9666666666666668, 'rbf': 0.9733333333333334, 'sigmoid': 0.06666666666666668}\n"
     ]
    }
   ],
   "source": [
    "import numpy as np\n",
    "print(np.char.center(\"different accuracy of model in different kernels\",30,fillchar = \"*\"))\n",
    "print(acc_dict)"
   ]
  },
  {
   "cell_type": "code",
   "execution_count": 72,
   "metadata": {},
   "outputs": [],
   "source": [
    "#固定kernel 调节C\n",
    "Acc_l = []\n",
    "Acc_p = []\n",
    "Acc_r = []\n",
    "Acc_s = []\n",
    "for i in np.linspace(0.01,1,30):\n",
    "    clf_l = SVC(C=i,kernel = \"linear\").fit(x,y)\n",
    "    acc_l = cross_val_score(clf_l,x,y,cv=10)\n",
    "    Acc_l.append(acc_l.mean())\n",
    "    \n",
    "    clf_p = SVC(C=i,kernel = \"poly\").fit(x,y)\n",
    "    acc_p = cross_val_score(clf_p,x,y,cv=10)\n",
    "    Acc_p.append(acc_p.mean())\n",
    "    \n",
    "    clf_r = SVC(C=i,kernel = \"rbf\").fit(x,y)\n",
    "    acc_r = cross_val_score(clf_r,x,y,cv=10)\n",
    "    Acc_r.append(acc_r.mean())\n",
    "    \n",
    "    clf_s = SVC(C=i,kernel = \"sigmoid\").fit(x,y)\n",
    "    acc_s = cross_val_score(clf_s,x,y,cv=10)\n",
    "    Acc_s.append(acc_s.mean())\n",
    "    "
   ]
  },
  {
   "cell_type": "code",
   "execution_count": 81,
   "metadata": {},
   "outputs": [
    {
     "data": {
      "image/png": "[encoded data removed]",
      "text/plain": [
       "<Figure size 432x288 with 1 Axes>"
      ]
     },
     "metadata": {
      "needs_background": "light"
     },
     "output_type": "display_data"
    }
   ],
   "source": [
    "import matplotlib.pyplot as plt\n",
    "#显示汉字\n",
    "x_axis_data = np.arange(1,31)\n",
    "plt.rcParams[\"font.sans-serif\"] = [\"SimHei\"]\n",
    "plt.title(\"不同惩罚度的模型精度\")\n",
    "plt.plot(x_axis_data,Acc_l,\"b*--\",alpha = 0.5,linewidth = 1,label = \"Acc_l\")\n",
    "plt.plot(x_axis_data,Acc_p,\"rs--\",alpha = 0.5,linewidth = 1,label = \"Acc_p\")\n",
    "plt.plot(x_axis_data,Acc_r,\"c+--\",alpha = 0.5,linewidth = 1,label = \"Acc_r\")\n",
    "\n",
    "#设置数据标签位置和大小\n",
    "#for a,b in zip(x_axis_data,score_1):\n",
    "   # plt.text(a,b,str(b),ha = \"center\",va = \"bottom\",fontsize = 8)\n",
    "#for a,b1 in zip(x_axis_data,score_2):\n",
    "   # plt.text(a,b1,str(b1),ha = \"center\",va = \"bottom\",fontsize = 8)\n",
    "plt.legend()\n",
    "plt.xlabel(\"learning_rate\")\n",
    "plt.ylabel(\"accuracy\")\n",
    "plt.ylim(0.9,1)\n",
    "plt.show()"
   ]
  },
  {
   "cell_type": "markdown",
   "metadata": {},
   "source": [
    "#NuSVC"
   ]
  },
  {
   "cell_type": "code",
   "execution_count": 4,
   "metadata": {},
   "outputs": [],
   "source": [
    "from sklearn.svm import NuSVC#可以通过参数控制支持向量的个数\n",
    "from sklearn.datasets import load_iris\n",
    "from sklearn.metrics import accuracy_score\n",
    "from sklearn.model_selection import train_test_split\n"
   ]
  },
  {
   "cell_type": "code",
   "execution_count": 5,
   "metadata": {},
   "outputs": [],
   "source": [
    "iris = load_iris()\n",
    "x = iris.data\n",
    "y = iris.target\n",
    "xtrain,xtest,ytrain,ytest = train_test_split(x,y,test_size = 0.3,random_state = 100)"
   ]
  },
  {
   "cell_type": "code",
   "execution_count": 7,
   "metadata": {},
   "outputs": [],
   "source": [
    "clf_NuSVC = NuSVC().fit(xtrain,ytrain)\n",
    "y_pre = clf_NuSVC.predict(xtest)\n",
    "acc_NuSVC = accuracy_score(ytest,y_pre)"
   ]
  },
  {
   "cell_type": "code",
   "execution_count": 8,
   "metadata": {},
   "outputs": [
    {
     "name": "stdout",
     "output_type": "stream",
     "text": [
      "1.0\n"
     ]
    }
   ],
   "source": [
    "print(acc_NuSVC)"
   ]
  },
  {
   "cell_type": "markdown",
   "metadata": {},
   "source": [
    "#LinearSCV\n",
    "在选择处罚函数和损失函数上具备更大的灵活性，且适应更大的数据集"
   ]
  },
  {
   "cell_type": "code",
   "execution_count": 9,
   "metadata": {},
   "outputs": [],
   "source": [
    "from sklearn.svm import LinearSVC"
   ]
  },
  {
   "cell_type": "code",
   "execution_count": 14,
   "metadata": {},
   "outputs": [
    {
     "name": "stderr",
     "output_type": "stream",
     "text": [
      "D:\\anaconda\\lib\\site-packages\\sklearn\\svm\\_base.py:986: ConvergenceWarning: Liblinear failed to converge, increase the number of iterations.\n",
      "  \"the number of iterations.\", ConvergenceWarning)\n"
     ]
    }
   ],
   "source": [
    "clf_LSVC = LinearSVC().fit(xtrain,ytrain)\n",
    "y_pre1 = clf_LSVC.predict(xtest)\n",
    "acc_1 = accuracy_score(ytest,y_pre1)"
   ]
  },
  {
   "cell_type": "code",
   "execution_count": 15,
   "metadata": {},
   "outputs": [
    {
     "name": "stdout",
     "output_type": "stream",
     "text": [
      "0.9777777777777777\n"
     ]
    }
   ],
   "source": [
    "print(acc_1)"
   ]
  },
  {
   "cell_type": "code",
   "execution_count": 16,
   "metadata": {},
   "outputs": [
    {
     "name": "stdout",
     "output_type": "stream",
     "text": [
      "0.9777777777777777\n"
     ]
    }
   ],
   "source": [
    "print(clf_LSVC.score(xtest,ytest))"
   ]
  },
  {
   "cell_type": "code",
   "execution_count": 17,
   "metadata": {},
   "outputs": [
    {
     "name": "stdout",
     "output_type": "stream",
     "text": [
      "[[ 0.08673168  0.56168989 -0.72029907 -0.44521182]\n",
      " [ 0.30126877 -1.131784    0.18548155 -0.67150558]\n",
      " [-0.76019972 -0.83543603  1.21726154  1.70455477]]\n"
     ]
    }
   ],
   "source": [
    "print(clf_LSVC.coef_)"
   ]
  },
  {
   "cell_type": "markdown",
   "metadata": {},
   "source": [
    "### K近邻\n",
    "无监督学习"
   ]
  },
  {
   "cell_type": "markdown",
   "metadata": {},
   "source": [
    "#neighbors.NearestNeighbors()无监督学习临近搜索，用于搜索K个邻居,很不幸，它不能做预测，只能告诉我们训练集上所有样本的邻居。"
   ]
  },
  {
   "cell_type": "code",
   "execution_count": 1,
   "metadata": {},
   "outputs": [],
   "source": [
    "from sklearn.neighbors import NearestNeighbors \n",
    "from sklearn.datasets import load_breast_cancer"
   ]
  },
  {
   "cell_type": "code",
   "execution_count": 2,
   "metadata": {},
   "outputs": [],
   "source": [
    "cancer = load_breast_cancer()\n",
    "x = cancer.data"
   ]
  },
  {
   "cell_type": "code",
   "execution_count": 3,
   "metadata": {},
   "outputs": [],
   "source": [
    "clf_nb = NearestNeighbors().fit(x)"
   ]
  },
  {
   "cell_type": "code",
   "execution_count": 4,
   "metadata": {},
   "outputs": [],
   "source": [
    "test = (x[1]).reshape(1,-1)#转化成一行\n",
    "#reshape(2,-1)转化成两行，reshape(-1,1)转化成一列，reshape(-1,2)转化成两列\n",
    "distance ,index = clf_nb.kneighbors(test,n_neighbors = 8,return_distance = True)\n",
    "#clf_nb.radius_neighbors()"
   ]
  },
  {
   "cell_type": "code",
   "execution_count": 5,
   "metadata": {},
   "outputs": [
    {
     "name": "stdout",
     "output_type": "stream",
     "text": [
      "[[4.31583729e-05 1.60692381e+01 6.66317265e+01 8.62302283e+01\n",
      "  8.93392210e+01 9.25607111e+01 1.21459484e+02 1.21690406e+02]] \n",
      " [[  1 373 323 233 449 250 218 260]]\n"
     ]
    }
   ],
   "source": [
    "print(distance,\"\\n\",index)"
   ]
  },
  {
   "cell_type": "markdown",
   "metadata": {},
   "source": [
    "#neighbors.NearestCentroid()最近质心分类器,可用于预测，因为在训练的时候利用了标签。每个类别由其质心表示，验证样本被分类到距离其最近质心的类别。\n"
   ]
  },
  {
   "cell_type": "code",
   "execution_count": 8,
   "metadata": {},
   "outputs": [],
   "source": [
    "from sklearn.neighbors import NearestCentroid\n",
    "from sklearn.model_selection import train_test_split"
   ]
  },
  {
   "cell_type": "code",
   "execution_count": 9,
   "metadata": {},
   "outputs": [],
   "source": [
    "x = cancer.data\n",
    "y = cancer.target\n",
    "x_train,x_test,y_train,y_test = train_test_split(x,y,test_size = 0.3,random_state = 200)"
   ]
  },
  {
   "cell_type": "code",
   "execution_count": 12,
   "metadata": {},
   "outputs": [],
   "source": [
    "clf_NC = NearestCentroid().fit(x_train,y_train)\n",
    "y_pre = clf_NC.predict(x_test)"
   ]
  },
  {
   "cell_type": "code",
   "execution_count": 13,
   "metadata": {},
   "outputs": [
    {
     "data": {
      "text/plain": [
       "array([1, 1, 1, 1, 1, 1, 1, 1, 0, 0, 1, 1, 1, 0, 1, 1, 0, 1, 1, 0, 0, 1,\n",
       "       0, 1, 1, 1, 1, 1, 1, 0, 1, 1, 0, 1, 0, 0, 1, 1, 1, 0, 1, 1, 1, 1,\n",
       "       0, 1, 0, 0, 1, 0, 1, 1, 0, 0, 1, 1, 1, 1, 1, 1, 1, 1, 1, 1, 1, 0,\n",
       "       1, 1, 1, 0, 1, 1, 1, 1, 0, 1, 1, 0, 0, 1, 1, 1, 0, 1, 1, 1, 1, 1,\n",
       "       1, 1, 1, 1, 1, 1, 1, 1, 1, 1, 1, 0, 1, 1, 1, 1, 1, 1, 1, 0, 1, 1,\n",
       "       1, 1, 1, 1, 1, 1, 1, 1, 1, 1, 1, 1, 1, 0, 1, 1, 0, 1, 1, 1, 1, 1,\n",
       "       1, 1, 1, 1, 1, 1, 0, 1, 1, 0, 0, 0, 1, 1, 1, 1, 1, 1, 1, 0, 1, 1,\n",
       "       1, 0, 1, 1, 0, 0, 1, 1, 1, 1, 1, 1, 1, 0, 1, 0, 0])"
      ]
     },
     "execution_count": 13,
     "metadata": {},
     "output_type": "execute_result"
    }
   ],
   "source": [
    "y_pre"
   ]
  },
  {
   "cell_type": "code",
   "execution_count": 14,
   "metadata": {},
   "outputs": [
    {
     "name": "stdout",
     "output_type": "stream",
     "text": [
      "**************精度**************\n",
      "0.8830409356725146\n"
     ]
    }
   ],
   "source": [
    "#查看一下精度(准确度)\n",
    "from sklearn.metrics import accuracy_score\n",
    "import numpy as np\n",
    "acc_NC = accuracy_score(y_test,y_pre)\n",
    "print(np.char.center(\"精度\",30,fillchar = \"*\"))\n",
    "print(acc_NC)\n"
   ]
  },
  {
   "cell_type": "markdown",
   "metadata": {},
   "source": [
    "#neighbors.KNeighborsClassifier()K近邻分类器\n",
    "之所以能够用来做分类，就是简单的做了一个投票机制，谁多就投谁。\n",
    "当然了，这也和我们的邻居个数和确定邻居的方法（也就是距离计算方式）有关。\n",
    "算法简单，但是就是太简单了，如果发现由两个不同标签但距离相同邻居，那么哪个是我的邻居，取决于哪个样本的顺序排在前面。"
   ]
  },
  {
   "cell_type": "code",
   "execution_count": 16,
   "metadata": {},
   "outputs": [],
   "source": [
    "from sklearn.neighbors import KNeighborsClassifier"
   ]
  },
  {
   "cell_type": "code",
   "execution_count": 19,
   "metadata": {},
   "outputs": [],
   "source": [
    "clf_KNN = KNeighborsClassifier(n_neighbors = 5).fit(x_train,y_train)\n",
    "y_pre = clf_KNN.predict(x_test)\n"
   ]
  },
  {
   "cell_type": "code",
   "execution_count": 21,
   "metadata": {},
   "outputs": [
    {
     "name": "stdout",
     "output_type": "stream",
     "text": [
      "0.9122807017543859\n"
     ]
    }
   ],
   "source": [
    "print(accuracy_score(y_test,y_pre))"
   ]
  },
  {
   "cell_type": "markdown",
   "metadata": {},
   "source": [
    "#neighbors.KDTree() KD树搜索最近邻\n",
    "首先解释一下：为什么会有KDTree,因为如果要使用brute来计算样本到其余所有样本的距离的话，如果数据集很大，工作量非常大，所以可以采用计算样本和核心的其余样本之间的距离来获取最近邻是比较方便的。\n",
    "KD树的构建：KD树采用从m个样本的N维特征中，分别计算n个特征取值的方差，用方差最大的第k个特征nk作为根节点，对于该特征，选择取值的中位数作为样本划分点，小于该中位数的样本划分到左子树，反之。然后对左右子树采取相同的方式最后产生KD树。\n",
    "利用KD树进行预测：对于一个测试样本，首先在KD树中找到包含测试样本的叶子节点，怎么找：以该测试样本为圆心，r为半径得到一个球体，找到球体内的最近邻，找到最近邻的父节点，以该父节点构建超巨型体，若与球体相交就找到该区域内是否有更近的邻居，若有则更新。若不相交就返回最近邻的父节点的杜节点，在另一颗树上群找最近邻，回溯到根节点停止。"
   ]
  },
  {
   "cell_type": "code",
   "execution_count": 23,
   "metadata": {},
   "outputs": [],
   "source": [
    "from sklearn.neighbors import KDTree#该树同样不能坐预测，仅仅告诉我们邻居是谁\n",
    "clf_KDT = KDTree(x,leaf_size =2)"
   ]
  },
  {
   "cell_type": "code",
   "execution_count": 29,
   "metadata": {},
   "outputs": [],
   "source": [
    "\n",
    "distance,index = clf_KDT.query([x[0]],k=5)"
   ]
  },
  {
   "cell_type": "code",
   "execution_count": 30,
   "metadata": {},
   "outputs": [
    {
     "name": "stdout",
     "output_type": "stream",
     "text": [
      "[[  0.         186.61763    194.56881285 204.17130519 209.53712484]] [[  0 337 254  56  70]]\n"
     ]
    }
   ],
   "source": [
    "print(distance,index)"
   ]
  },
  {
   "cell_type": "markdown",
   "metadata": {},
   "source": [
    "#neighbors.KNeighborsTransformer()数据转换为K个最近邻居的加权图\n",
    "声明：目前我还没有搞清楚这个函数有什么用，暂时不解释和示例。"
   ]
  },
  {
   "cell_type": "markdown",
   "metadata": {},
   "source": [
    "### 判别分析"
   ]
  },
  {
   "cell_type": "markdown",
   "metadata": {},
   "source": [
    "#sklearn.discriminant_analysis.LinearDiscriminantAnalysis(LDA)线性判别分析"
   ]
  },
  {
   "cell_type": "code",
   "execution_count": 2,
   "metadata": {},
   "outputs": [],
   "source": [
    "from sklearn.discriminant_analysis import LinearDiscriminantAnalysis as LDA\n",
    "from sklearn.datasets import load_iris\n",
    "from sklearn.model_selection import train_test_split"
   ]
  },
  {
   "cell_type": "code",
   "execution_count": 3,
   "metadata": {},
   "outputs": [],
   "source": [
    "iris = load_iris()\n",
    "x = iris.data\n",
    "y = iris.target\n",
    "xtrain,xtest,ytrain,ytest = train_test_split(x,y)"
   ]
  },
  {
   "cell_type": "code",
   "execution_count": 6,
   "metadata": {},
   "outputs": [
    {
     "name": "stdout",
     "output_type": "stream",
     "text": [
      "[0 1 2]\n"
     ]
    }
   ],
   "source": [
    "#查看数据集的标签类别\n",
    "#print(iris.target_names)\n",
    "import numpy as np\n",
    "print(np.unique(y))"
   ]
  },
  {
   "cell_type": "code",
   "execution_count": 9,
   "metadata": {},
   "outputs": [],
   "source": [
    "#多分类问题使用LDA\n",
    "clf_lda = LDA().fit(xtrain,ytrain)\n",
    "y_pre = clf_lda.predict(xtest)"
   ]
  },
  {
   "cell_type": "code",
   "execution_count": 10,
   "metadata": {},
   "outputs": [
    {
     "name": "stdout",
     "output_type": "stream",
     "text": [
      "[2 2 0 0 2 1 1 2 1 1 1 0 2 1 0 0 1 2 0 2 2 1 2 1 2 0 1 1 2 2 1 2 2 2 0 1 1\n",
      " 0]\n"
     ]
    }
   ],
   "source": [
    "#查看分类的结果\n",
    "print(y_pre)"
   ]
  },
  {
   "cell_type": "code",
   "execution_count": 14,
   "metadata": {},
   "outputs": [],
   "source": [
    "#查看分类的概率\n",
    "y_pre_proba = clf_lda.predict_proba(xtest)\n",
    "#print(y_pre_proba)"
   ]
  },
  {
   "cell_type": "code",
   "execution_count": 16,
   "metadata": {},
   "outputs": [
    {
     "name": "stdout",
     "output_type": "stream",
     "text": [
      "0.9736842105263158\n"
     ]
    }
   ],
   "source": [
    "#计算准确度\n",
    "print(clf_lda.score(xtest,ytest))"
   ]
  },
  {
   "cell_type": "markdown",
   "metadata": {},
   "source": [
    "#sklearn.discriminant_analysis.QuadraticDiscriminantAnalysis()二次判别分析\n",
    "可以进行非线性分类，但是不可以降维"
   ]
  },
  {
   "cell_type": "code",
   "execution_count": 18,
   "metadata": {},
   "outputs": [],
   "source": [
    "from sklearn.discriminant_analysis import QuadraticDiscriminantAnalysis as QDA"
   ]
  },
  {
   "cell_type": "code",
   "execution_count": 19,
   "metadata": {},
   "outputs": [],
   "source": [
    "clf_QDA = QDA().fit(xtrain,ytrain)\n",
    "score = clf_QDA.score(xtest,ytest)"
   ]
  },
  {
   "cell_type": "code",
   "execution_count": 20,
   "metadata": {},
   "outputs": [
    {
     "name": "stdout",
     "output_type": "stream",
     "text": [
      "0.9736842105263158\n"
     ]
    }
   ],
   "source": [
    "print(score)"
   ]
  },
  {
   "cell_type": "markdown",
   "metadata": {},
   "source": [
    "### Bayes"
   ]
  },
  {
   "cell_type": "markdown",
   "metadata": {},
   "source": [
    "sklearn.naive_bayes.GuassianNB()朴素贝叶斯"
   ]
  },
  {
   "cell_type": "code",
   "execution_count": 21,
   "metadata": {},
   "outputs": [],
   "source": [
    "from sklearn.naive_bayes import GaussianNB "
   ]
  },
  {
   "cell_type": "code",
   "execution_count": 22,
   "metadata": {},
   "outputs": [
    {
     "name": "stdout",
     "output_type": "stream",
     "text": [
      "1.0\n"
     ]
    }
   ],
   "source": [
    "clf_gnb = GaussianNB().fit(xtrain,ytrain)\n",
    "print(clf_gnb.score(xtest,ytest))"
   ]
  },
  {
   "cell_type": "markdown",
   "metadata": {},
   "source": [
    "MultinomialNB 多项式朴素贝叶斯"
   ]
  },
  {
   "cell_type": "code",
   "execution_count": 23,
   "metadata": {},
   "outputs": [
    {
     "name": "stdout",
     "output_type": "stream",
     "text": [
      "0.9473684210526315\n"
     ]
    }
   ],
   "source": [
    "from sklearn.naive_bayes import MultinomialNB as MNB\n",
    "clf_MNB = MNB().fit(xtrain,ytrain)\n",
    "print(clf_MNB.score(xtest,ytest))\n"
   ]
  },
  {
   "cell_type": "markdown",
   "metadata": {},
   "source": [
    "BernoulliNB伯努利朴素贝叶斯"
   ]
  },
  {
   "cell_type": "code",
   "execution_count": 25,
   "metadata": {},
   "outputs": [
    {
     "name": "stdout",
     "output_type": "stream",
     "text": [
      "0.23684210526315788\n"
     ]
    }
   ],
   "source": [
    "from sklearn.naive_bayes import BernoulliNB as BNB\n",
    "clf_BNB = BNB().fit(xtrain,ytrain)\n",
    "print(clf_BNB.score(xtest,ytest))"
   ]
  },
  {
   "cell_type": "markdown",
   "metadata": {},
   "source": [
    "### sklearn.cluster"
   ]
  },
  {
   "cell_type": "markdown",
   "metadata": {},
   "source": [
    "cluster.DBSCAN()基于密度的聚类\n",
    "https://www.cnblogs.com/pinard/p/6217852.html"
   ]
  },
  {
   "cell_type": "code",
   "execution_count": 26,
   "metadata": {},
   "outputs": [],
   "source": [
    "import numpy as np\n",
    "from sklearn.cluster import DBSCAN\n",
    "import matplotlib.pyplot as plt\n",
    "from sklearn import datasets"
   ]
  },
  {
   "cell_type": "code",
   "execution_count": 27,
   "metadata": {},
   "outputs": [],
   "source": [
    "#构造数据集\n",
    "x1,y1 = datasets.make_circles(n_samples = 500,factor = 0.6,noise = 0.05)\n",
    "x2,y2 = datasets.make_blobs(n_samples = 1000,n_features = 2,centers = [[1.2,1.2]],cluster_std = [[0.1]],random_state = 9)"
   ]
  },
  {
   "cell_type": "code",
   "execution_count": 29,
   "metadata": {},
   "outputs": [],
   "source": [
    "x = np.concatenate((x1,x2))"
   ]
  },
  {
   "cell_type": "code",
   "execution_count": 30,
   "metadata": {},
   "outputs": [
    {
     "data": {
      "image/png": "[encoded data removed]",
      "text/plain": [
       "<Figure size 432x288 with 1 Axes>"
      ]
     },
     "metadata": {
      "needs_background": "light"
     },
     "output_type": "display_data"
    }
   ],
   "source": [
    "plt.scatter(x[:,0],x[:,1],marker = \"o\")\n",
    "plt.show()"
   ]
  },
  {
   "cell_type": "code",
   "execution_count": 36,
   "metadata": {},
   "outputs": [
    {
     "name": "stdout",
     "output_type": "stream",
     "text": [
      "(1500, 2)\n"
     ]
    }
   ],
   "source": [
    "print(x.shape)"
   ]
  },
  {
   "cell_type": "code",
   "execution_count": 37,
   "metadata": {},
   "outputs": [
    {
     "data": {
      "text/plain": [
       "<matplotlib.collections.PathCollection at 0x1cdbbdc29b0>"
      ]
     },
     "execution_count": 37,
     "metadata": {},
     "output_type": "execute_result"
    },
    {
     "data": {
      "image/png": "[encoded data removed]",
      "text/plain": [
       "<Figure size 432x288 with 1 Axes>"
      ]
     },
     "metadata": {
      "needs_background": "light"
     },
     "output_type": "display_data"
    }
   ],
   "source": [
    "y_pred = DBSCAN().fit_predict(x)\n",
    "plt.scatter(x[:,0],x[:,1],c = y_pred)"
   ]
  },
  {
   "cell_type": "code",
   "execution_count": 40,
   "metadata": {},
   "outputs": [
    {
     "name": "stdout",
     "output_type": "stream",
     "text": [
      "[0]\n"
     ]
    }
   ],
   "source": [
    "print(np.unique(y_pred))#全部分成了一个类别"
   ]
  },
  {
   "cell_type": "code",
   "execution_count": 42,
   "metadata": {},
   "outputs": [
    {
     "data": {
      "image/png": "[encoded data removed]",
      "text/plain": [
       "<Figure size 432x288 with 1 Axes>"
      ]
     },
     "metadata": {
      "needs_background": "light"
     },
     "output_type": "display_data"
    }
   ],
   "source": [
    "#增大类别数，减小阈值\n",
    "y_pred = DBSCAN(eps=0.2).fit_predict(x)\n",
    "plt.scatter(x[:,0],x[:,1],c = y_pred)\n",
    "plt.show()"
   ]
  },
  {
   "cell_type": "code",
   "execution_count": 49,
   "metadata": {},
   "outputs": [
    {
     "data": {
      "image/png": "[encoded data removed]",
      "text/plain": [
       "<Figure size 432x288 with 1 Axes>"
      ]
     },
     "metadata": {
      "needs_background": "light"
     },
     "output_type": "display_data"
    }
   ],
   "source": [
    "#方法二，增加min_samples\n",
    "y_pred = DBSCAN(eps = 0.16,min_samples = 6).fit_predict(x)\n",
    "plt.scatter(x[:,0],x[:,1],c = y_pred)\n",
    "plt.show()"
   ]
  },
  {
   "cell_type": "markdown",
   "metadata": {},
   "source": [
    "mixture.GaussianMixtrue()高斯混合模型/GMM得到的是每一类的概率"
   ]
  },
  {
   "cell_type": "code",
   "execution_count": 7,
   "metadata": {},
   "outputs": [],
   "source": [
    "import numpy as np\n",
    "import pandas as pd\n",
    "import matplotlib as mlp\n",
    "import matplotlib.colors\n",
    "import matplotlib.pyplot as plt\n",
    "from sklearn.mixture import GaussianMixture\n",
    "from sklearn.model_selection import train_test_split\n",
    "from sklearn import datasets"
   ]
  },
  {
   "cell_type": "code",
   "execution_count": 8,
   "metadata": {},
   "outputs": [],
   "source": [
    "x1,y1 = datasets.make_circles(n_samples = 500,factor = 0.6,noise = 0.05)\n",
    "x2,y2 = datasets.make_blobs(n_samples = 1000,n_features = 2,centers = [[1.2,1.2]],cluster_std = [[0.1]],random_state = 9)"
   ]
  },
  {
   "cell_type": "code",
   "execution_count": 9,
   "metadata": {},
   "outputs": [],
   "source": [
    "x = np.concatenate((x1,x2))\n",
    "y = np.concatenate((y1,y2))"
   ]
  },
  {
   "cell_type": "code",
   "execution_count": 12,
   "metadata": {},
   "outputs": [],
   "source": [
    "xtrain,xtest,ytrain,ytest = train_test_split(x,y,test_size = 0.3,random_state = 100)"
   ]
  },
  {
   "cell_type": "code",
   "execution_count": 14,
   "metadata": {},
   "outputs": [
    {
     "data": {
      "text/plain": [
       "GaussianMixture(n_components=3, random_state=30)"
      ]
     },
     "execution_count": 14,
     "metadata": {},
     "output_type": "execute_result"
    }
   ],
   "source": [
    "#train model\n",
    "gmm = GaussianMixture(n_components = 3,covariance_type = \"full\",random_state = 30)\n",
    "gmm.fit(xtrain,ytrain)"
   ]
  },
  {
   "cell_type": "code",
   "execution_count": 15,
   "metadata": {},
   "outputs": [
    {
     "name": "stdout",
     "output_type": "stream",
     "text": [
      "mean: [[ 0.35632603 -0.34581273]\n",
      " [ 1.20118781  1.19201046]\n",
      " [-0.38926632  0.30938363]]\n",
      "cov: [[[ 2.08766438e-01  1.20508480e-01]\n",
      "  [ 1.20508480e-01  2.22380163e-01]]\n",
      "\n",
      " [[ 1.02525690e-02 -5.22502189e-05]\n",
      "  [-5.22502189e-05  1.10636359e-02]]\n",
      "\n",
      " [[ 1.99975821e-01  1.15496972e-01]\n",
      "  [ 1.15496972e-01  2.28905650e-01]]]\n"
     ]
    }
   ],
   "source": [
    "#输出模型参数\n",
    "print(\"mean:\",gmm.means_)\n",
    "print(\"cov:\",gmm.covariances_)"
   ]
  },
  {
   "cell_type": "code",
   "execution_count": 18,
   "metadata": {},
   "outputs": [
    {
     "name": "stdout",
     "output_type": "stream",
     "text": [
      "0.08222222222222222\n"
     ]
    }
   ],
   "source": [
    "#model value\n",
    "y_hat = gmm.predict(xtest)\n",
    "from sklearn.metrics import accuracy_score\n",
    "acc = accuracy_score(ytest,y_hat)\n",
    "print(acc)"
   ]
  },
  {
   "cell_type": "code",
   "execution_count": 21,
   "metadata": {},
   "outputs": [],
   "source": [
    "#尝试另一个数据集\n",
    "from sklearn.datasets import load_iris\n",
    "iris = load_iris()\n",
    "x = iris.data\n",
    "y = iris.target\n",
    "xtrain,xtest,ytrain,ytest = train_test_split(x,y,test_size = 0.3,random_state=200)"
   ]
  },
  {
   "cell_type": "code",
   "execution_count": 22,
   "metadata": {},
   "outputs": [
    {
     "data": {
      "text/plain": [
       "GaussianMixture(n_components=3)"
      ]
     },
     "execution_count": 22,
     "metadata": {},
     "output_type": "execute_result"
    }
   ],
   "source": [
    "clf_gmm = GaussianMixture(n_components = 3)\n",
    "clf_gmm.fit(xtrain,ytrain)"
   ]
  },
  {
   "cell_type": "code",
   "execution_count": 23,
   "metadata": {},
   "outputs": [
    {
     "name": "stdout",
     "output_type": "stream",
     "text": [
      "0.17777777777777778\n"
     ]
    }
   ],
   "source": [
    "y_pre = clf_gmm.predict(xtest)\n",
    "print(accuracy_score(ytest,y_pre))"
   ]
  },
  {
   "cell_type": "markdown",
   "metadata": {},
   "source": [
    "cluster.AffinityPropagation()吸引力传播聚类\n",
    "https://blog.csdn.net/The_Time_Runner/article/details/89853974"
   ]
  },
  {
   "cell_type": "code",
   "execution_count": 27,
   "metadata": {},
   "outputs": [],
   "source": [
    "from sklearn.cluster import AffinityPropagation as AP"
   ]
  },
  {
   "cell_type": "code",
   "execution_count": 29,
   "metadata": {},
   "outputs": [],
   "source": [
    "x1,y1 = datasets.make_circles(n_samples = 500,factor = 0.6,noise = 0.05)\n",
    "x2,y2 = datasets.make_blobs(n_samples = 1000,n_features = 2,centers = [[1.2,1.2]],cluster_std = [[0.1]],random_state = 9)\n",
    "x = np.concatenate((x1,x2))\n",
    "y = np.concatenate((y1,y2))\n",
    "xtrain,xtest,ytrain,ytest = train_test_split(x,y,test_size = 0.3,random_state=200)"
   ]
  },
  {
   "cell_type": "code",
   "execution_count": 32,
   "metadata": {},
   "outputs": [
    {
     "name": "stderr",
     "output_type": "stream",
     "text": [
      "D:\\anaconda\\lib\\site-packages\\sklearn\\cluster\\_affinity_propagation.py:247: ConvergenceWarning: Affinity propagation did not converge, this model will not have any cluster centers.\n",
      "  \"will not have any cluster centers.\", ConvergenceWarning)\n"
     ]
    },
    {
     "data": {
      "text/plain": [
       "AffinityPropagation(random_state=5)"
      ]
     },
     "execution_count": 32,
     "metadata": {},
     "output_type": "execute_result"
    }
   ],
   "source": [
    "clf_AP = AP(random_state = 5,).fit(xtrain)\n",
    "clf_AP"
   ]
  },
  {
   "cell_type": "code",
   "execution_count": 33,
   "metadata": {},
   "outputs": [
    {
     "name": "stderr",
     "output_type": "stream",
     "text": [
      "D:\\anaconda\\lib\\site-packages\\sklearn\\cluster\\_affinity_propagation.py:462: ConvergenceWarning: This model does not have any cluster centers because affinity propagation did not converge. Labeling every sample as '-1'.\n",
      "  \"Labeling every sample as '-1'.\", ConvergenceWarning)\n"
     ]
    }
   ],
   "source": [
    "y_pre = clf_AP.predict(xtest)"
   ]
  },
  {
   "cell_type": "code",
   "execution_count": 34,
   "metadata": {},
   "outputs": [
    {
     "name": "stderr",
     "output_type": "stream",
     "text": [
      "D:\\anaconda\\lib\\site-packages\\sklearn\\cluster\\_affinity_propagation.py:462: ConvergenceWarning: This model does not have any cluster centers because affinity propagation did not converge. Labeling every sample as '-1'.\n",
      "  \"Labeling every sample as '-1'.\", ConvergenceWarning)\n"
     ]
    }
   ],
   "source": [
    "y_pre_train = clf_AP.predict(xtrain)"
   ]
  },
  {
   "cell_type": "code",
   "execution_count": 36,
   "metadata": {},
   "outputs": [
    {
     "data": {
      "image/png": "[encoded data removed]",
      "text/plain": [
       "<Figure size 432x288 with 1 Axes>"
      ]
     },
     "metadata": {
      "needs_background": "light"
     },
     "output_type": "display_data"
    }
   ],
   "source": [
    "plt.scatter(xtrain[:,0],xtrain[:,1],c = y_pre_train)\n",
    "plt.show()"
   ]
  },
  {
   "cell_type": "code",
   "execution_count": 49,
   "metadata": {},
   "outputs": [],
   "source": [
    "#调节参数\n",
    "clf_AP = AP(random_state = 5,preference = 3).fit(xtrain)"
   ]
  },
  {
   "cell_type": "code",
   "execution_count": 50,
   "metadata": {},
   "outputs": [],
   "source": [
    "y_pre_train = clf_AP.predict(xtrain)"
   ]
  },
  {
   "cell_type": "code",
   "execution_count": 51,
   "metadata": {},
   "outputs": [
    {
     "data": {
      "image/png": "[encoded data removed]",
      "text/plain": [
       "<Figure size 432x288 with 1 Axes>"
      ]
     },
     "metadata": {
      "needs_background": "light"
     },
     "output_type": "display_data"
    }
   ],
   "source": [
    "plt.scatter(xtrain[:,0],xtrain[:,1],c = y_pre_train)\n",
    "plt.show()\n",
    "#聚类效果不是很好因为它是根据距离来计算相似度的，特别是应用到了这种有特殊形状的数据集上。"
   ]
  },
  {
   "cell_type": "markdown",
   "metadata": {},
   "source": [
    "cluster.AgglomerativeClustering()层次聚类,从下至上\n",
    "cluster.Brich()"
   ]
  },
  {
   "cell_type": "code",
   "execution_count": 58,
   "metadata": {},
   "outputs": [],
   "source": [
    "from sklearn.cluster import AgglomerativeClustering as AC\n",
    "from sklearn.metrics import adjusted_rand_score\n",
    "from sklearn.datasets import load_iris"
   ]
  },
  {
   "cell_type": "code",
   "execution_count": 59,
   "metadata": {},
   "outputs": [],
   "source": [
    "iris = load_iris()\n",
    "x = iris.data\n",
    "y = iris.target"
   ]
  },
  {
   "cell_type": "code",
   "execution_count": 64,
   "metadata": {},
   "outputs": [],
   "source": [
    "clf_AC = AC(n_clusters = 3).fit(x)\n",
    "labels = clf_AC.labels_"
   ]
  },
  {
   "cell_type": "code",
   "execution_count": 67,
   "metadata": {},
   "outputs": [
    {
     "name": "stdout",
     "output_type": "stream",
     "text": [
      "0.7311985567707746\n"
     ]
    }
   ],
   "source": [
    "RD = adjusted_rand_score(y,labels)\n",
    "print(RD)"
   ]
  },
  {
   "cell_type": "code",
   "execution_count": null,
   "metadata": {},
   "outputs": [],
   "source": [
    "#luster.brich\n",
    "#https://zhuanlan.zhihu.com/p/367976444"
   ]
  },
  {
   "cell_type": "code",
   "execution_count": 70,
   "metadata": {},
   "outputs": [],
   "source": [
    "import numpy as np\n",
    "import matplotlib.pyplot as plt\n",
    "from sklearn.datasets import make_blobs\n",
    "from sklearn.cluster import Birch"
   ]
  },
  {
   "cell_type": "code",
   "execution_count": 72,
   "metadata": {},
   "outputs": [],
   "source": [
    "x,y = make_blobs(n_samples = 1000 ,n_features = 2,centers = [[-1,-1],[0,0],[1,1],[2,2]],cluster_std = [0.4,0.3,0.4,0.3],random_state = 100)"
   ]
  },
  {
   "cell_type": "code",
   "execution_count": 73,
   "metadata": {},
   "outputs": [
    {
     "data": {
      "image/png": "[encoded data removed]",
      "text/plain": [
       "<Figure size 432x288 with 1 Axes>"
      ]
     },
     "metadata": {
      "needs_background": "light"
     },
     "output_type": "display_data"
    }
   ],
   "source": [
    "plt.scatter(x[:,0],x[:,1])\n",
    "plt.show()"
   ]
  },
  {
   "cell_type": "code",
   "execution_count": 77,
   "metadata": {},
   "outputs": [],
   "source": [
    "birch = Birch(n_clusters = 4).fit(x)\n",
    "y_hat = birch.predict(x)"
   ]
  },
  {
   "cell_type": "code",
   "execution_count": 78,
   "metadata": {},
   "outputs": [
    {
     "data": {
      "image/png": "[encoded data removed]",
      "text/plain": [
       "<Figure size 432x288 with 1 Axes>"
      ]
     },
     "metadata": {
      "needs_background": "light"
     },
     "output_type": "display_data"
    }
   ],
   "source": [
    "plt.scatter(x[:,0],x[:,1],c = y_hat)\n",
    "plt.show()"
   ]
  },
  {
   "cell_type": "code",
   "execution_count": 79,
   "metadata": {},
   "outputs": [
    {
     "name": "stdout",
     "output_type": "stream",
     "text": [
      "4\n"
     ]
    }
   ],
   "source": [
    "print(birch.n_clusters)"
   ]
  },
  {
   "cell_type": "code",
   "execution_count": 80,
   "metadata": {},
   "outputs": [
    {
     "name": "stdout",
     "output_type": "stream",
     "text": [
      "0.7520475997742687\n"
     ]
    }
   ],
   "source": [
    "RD = adjusted_rand_score(y,y_hat)\n",
    "print(RD)"
   ]
  },
  {
   "cell_type": "markdown",
   "metadata": {},
   "source": [
    "cluster.KMeans()\n",
    "cluster.MiNiBatchKMeans()"
   ]
  },
  {
   "cell_type": "code",
   "execution_count": 32,
   "metadata": {},
   "outputs": [],
   "source": [
    "from sklearn.cluster import KMeans\n",
    "y_pre = KMeans(n_clusters = 3,random_state = 9).fit_predict(x)"
   ]
  },
  {
   "cell_type": "code",
   "execution_count": 33,
   "metadata": {},
   "outputs": [
    {
     "data": {
      "text/plain": [
       "array([1, 2, 2, ..., 0, 0, 0])"
      ]
     },
     "execution_count": 33,
     "metadata": {},
     "output_type": "execute_result"
    }
   ],
   "source": [
    "y_pre"
   ]
  },
  {
   "cell_type": "code",
   "execution_count": 35,
   "metadata": {},
   "outputs": [
    {
     "data": {
      "image/png": "[encoded data removed]",
      "text/plain": [
       "<Figure size 432x288 with 1 Axes>"
      ]
     },
     "metadata": {
      "needs_background": "light"
     },
     "output_type": "display_data"
    }
   ],
   "source": [
    "plt.scatter(x[:,0],x[:,1],c = y_pre)\n",
    "plt.show()"
   ]
  },
  {
   "cell_type": "code",
   "execution_count": null,
   "metadata": {},
   "outputs": [],
   "source": []
  },
  {
   "cell_type": "markdown",
   "metadata": {},
   "source": [
    "cluster.OPTICS()基于点排序来识别聚类结构\n",
    "https://blog.csdn.net/PRINCE2327/article/details/110412944"
   ]
  },
  {
   "cell_type": "code",
   "execution_count": 1,
   "metadata": {},
   "outputs": [],
   "source": [
    "from sklearn.cluster import OPTICS,cluster_optics_dbscan\n",
    "import matplotlib.gridspec as gridspec\n",
    "import matplotlib.pyplot as plt\n",
    "import numpy as np"
   ]
  },
  {
   "cell_type": "code",
   "execution_count": 2,
   "metadata": {},
   "outputs": [],
   "source": [
    "#create data\n",
    "np.random.seed(100)\n",
    "n_points_per_cluster = 250\n",
    "c1 = [-5,-2]+0.8*np.random.randn(n_points_per_cluster,2)#从标准正态分布中抽取数据\n",
    "c2 = [4,-1]+0.1*np.random.randn(n_points_per_cluster,2)\n",
    "c3 = [1,-2]+0.2*np.random.randn(n_points_per_cluster,2)\n",
    "c4 = [-2,3]+0.3*np.random.randn(n_points_per_cluster,2)\n",
    "c5 = [3,-2]+1.6*np.random.randn(n_points_per_cluster,2)\n",
    "c6 = [5,6]+2*np.random.randn(n_points_per_cluster,2)\n",
    "x = np.vstack((c1,c2,c3,c4,c5,c6))"
   ]
  },
  {
   "cell_type": "code",
   "execution_count": 5,
   "metadata": {},
   "outputs": [
    {
     "data": {
      "image/png": "[encoded data removed]",
      "text/plain": [
       "<Figure size 432x288 with 1 Axes>"
      ]
     },
     "metadata": {
      "needs_background": "light"
     },
     "output_type": "display_data"
    }
   ],
   "source": [
    "plt.scatter(x[:,0],x[:,1])\n",
    "plt.show()"
   ]
  },
  {
   "cell_type": "code",
   "execution_count": 16,
   "metadata": {},
   "outputs": [],
   "source": [
    "#model\n",
    "clf = OPTICS(min_samples = 50).fit(x)"
   ]
  },
  {
   "cell_type": "code",
   "execution_count": 17,
   "metadata": {},
   "outputs": [
    {
     "data": {
      "image/png": "[encoded data removed]",
      "text/plain": [
       "<Figure size 432x288 with 1 Axes>"
      ]
     },
     "metadata": {
      "needs_background": "light"
     },
     "output_type": "display_data"
    }
   ],
   "source": [
    "#查看聚类效果\n",
    "labels = clf.labels_\n",
    "plt.scatter(x[:,0],x[:,1],c = labels)\n",
    "plt.show()"
   ]
  },
  {
   "cell_type": "markdown",
   "metadata": {},
   "source": [
    "cluster.SpectralClustering()谱聚类"
   ]
  },
  {
   "cell_type": "code",
   "execution_count": 19,
   "metadata": {},
   "outputs": [],
   "source": [
    "from sklearn.cluster import SpectralClustering as SC"
   ]
  },
  {
   "cell_type": "code",
   "execution_count": 21,
   "metadata": {},
   "outputs": [],
   "source": [
    "clf_SC = SC(n_clusters = 4).fit(x)\n",
    "labels = clf_SC.labels_"
   ]
  },
  {
   "cell_type": "code",
   "execution_count": 26,
   "metadata": {},
   "outputs": [
    {
     "data": {
      "image/png": "[encoded data removed]",
      "text/plain": [
       "<Figure size 432x288 with 1 Axes>"
      ]
     },
     "metadata": {
      "needs_background": "light"
     },
     "output_type": "display_data"
    }
   ],
   "source": [
    "plt.scatter(x[:,0],x[:,1],c= labels)\n",
    "plt.show()"
   ]
  },
  {
   "cell_type": "code",
   "execution_count": null,
   "metadata": {},
   "outputs": [],
   "source": []
  }
 ],
 "metadata": {
  "kernelspec": {
   "display_name": "Python 3",
   "language": "python",
   "name": "python3"
  },
  "language_info": {
   "codemirror_mode": {
    "name": "ipython",
    "version": 3
   },
   "file_extension": ".py",
   "mimetype": "text/x-python",
   "name": "python",
   "nbconvert_exporter": "python",
   "pygments_lexer": "ipython3",
   "version": "3.7.0"
  }
 },
 "nbformat": 4,
 "nbformat_minor": 2
}
